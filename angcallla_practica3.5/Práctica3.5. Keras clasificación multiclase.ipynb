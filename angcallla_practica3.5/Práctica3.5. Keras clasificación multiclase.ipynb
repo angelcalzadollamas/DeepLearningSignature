{
 "cells": [
  {
   "cell_type": "markdown",
   "metadata": {
    "id": "Vx00wuB0g3ZM"
   },
   "source": [
    "# Práctica 3.5. Clasificación Multiclase"
   ]
  },
  {
   "cell_type": "code",
   "execution_count": 1,
   "metadata": {
    "colab": {
     "base_uri": "https://localhost:8080/",
     "height": 35
    },
    "id": "X_8IK64sg3ZM",
    "outputId": "35d70628-6abb-4066-84b0-f6aee85e264c"
   },
   "outputs": [
    {
     "name": "stderr",
     "output_type": "stream",
     "text": [
      "2022-03-13 16:25:49.081255: I tensorflow/stream_executor/platform/default/dso_loader.cc:49] Successfully opened dynamic library libcudart.so.10.1\n"
     ]
    },
    {
     "data": {
      "text/plain": [
       "'2.4.0'"
      ]
     },
     "execution_count": 1,
     "metadata": {},
     "output_type": "execute_result"
    }
   ],
   "source": [
    "from tensorflow import keras\n",
    "keras.__version__"
   ]
  },
  {
   "cell_type": "markdown",
   "metadata": {
    "id": "Cjy55_5Hg3ZN"
   },
   "source": [
    "En este ejemplo vamos a construir una red para clasificar las noticias de Reuters según una clasificación que contiene 46 temas (topics) disjuntos. Por ello, estamos ante un problema de **Clasificación Multi-Clase** (concretamente, de etiqueta única, porque cada ejemplo solo puede ser asignado a una de las clases, tal y como vimos con MNIST).\n",
    "\n",
    "El problema analizado es muy similar al que ya hemos visto de opiniones de IMDB, por lo que profundizaremos únicamente en aquellas fases que lo diferencian."
   ]
  },
  {
   "cell_type": "markdown",
   "metadata": {
    "id": "UhJqKK3Kg3ZN"
   },
   "source": [
    "## 1. El dataset de Reuters\n",
    "\n",
    "Vamos a trabajar sobre el *dataset de Reuters*, un conjunto de noticias cortas clasificadas por temática (topics), que publicó la empresa de noticias Reuters en 1986 y que se ha usado ampliamente como ejemplo en problemas de clasificación. Este dataset hace uso de 46 temas (topics) distintos, algunos con más representación que otros, pero en el que, al menos, cada topic etiqueta 10 noticias del conjunto de entrenamiento.\n",
    "\n",
    "Este datset también viene empaquetado en Keras y su carga es directa y similar a las que hemos realizado en los ejemplos anteriores:"
   ]
  },
  {
   "cell_type": "code",
   "execution_count": 2,
   "metadata": {
    "id": "j-IbjzCog3ZN"
   },
   "outputs": [
    {
     "name": "stderr",
     "output_type": "stream",
     "text": [
      "/home/dlstudent1/.conda/envs/tf-gpu/lib/python3.8/site-packages/tensorflow/python/keras/datasets/reuters.py:148: VisibleDeprecationWarning: Creating an ndarray from ragged nested sequences (which is a list-or-tuple of lists-or-tuples-or ndarrays with different lengths or shapes) is deprecated. If you meant to do this, you must specify 'dtype=object' when creating the ndarray.\n",
      "  x_train, y_train = np.array(xs[:idx]), np.array(labels[:idx])\n",
      "/home/dlstudent1/.conda/envs/tf-gpu/lib/python3.8/site-packages/tensorflow/python/keras/datasets/reuters.py:149: VisibleDeprecationWarning: Creating an ndarray from ragged nested sequences (which is a list-or-tuple of lists-or-tuples-or ndarrays with different lengths or shapes) is deprecated. If you meant to do this, you must specify 'dtype=object' when creating the ndarray.\n",
      "  x_test, y_test = np.array(xs[idx:]), np.array(labels[idx:])\n"
     ]
    }
   ],
   "source": [
    "from keras.datasets import reuters\n",
    "\n",
    "(train_data, train_labels), (test_data, test_labels) = reuters.load_data(num_words=10000)"
   ]
  },
  {
   "cell_type": "markdown",
   "metadata": {
    "id": "CM9v3qefg3ZN"
   },
   "source": [
    "\n",
    "Tenemos 8.982 ejemplos de entrenamiento y 2.246 ejemplos de test:\n"
   ]
  },
  {
   "cell_type": "code",
   "execution_count": 3,
   "metadata": {
    "colab": {
     "base_uri": "https://localhost:8080/"
    },
    "id": "LsYAkd9Qg3ZN",
    "outputId": "57b24af7-f452-4b96-9063-1cd569fcb855"
   },
   "outputs": [
    {
     "data": {
      "text/plain": [
       "8982"
      ]
     },
     "execution_count": 3,
     "metadata": {},
     "output_type": "execute_result"
    }
   ],
   "source": [
    "len(train_data)"
   ]
  },
  {
   "cell_type": "code",
   "execution_count": 4,
   "metadata": {
    "colab": {
     "base_uri": "https://localhost:8080/"
    },
    "id": "DWB17OqDg3ZN",
    "outputId": "f753020c-1225-4e4e-d073-ad7ed035e30f"
   },
   "outputs": [
    {
     "data": {
      "text/plain": [
       "2246"
      ]
     },
     "execution_count": 4,
     "metadata": {},
     "output_type": "execute_result"
    }
   ],
   "source": [
    "len(test_data)"
   ]
  },
  {
   "cell_type": "markdown",
   "metadata": {
    "id": "cSATj1Iqg3ZO"
   },
   "source": [
    "Al igual que en el caso de IMDB, los ejemplos son listas de enteros que representan índices de palabras de un diccionario:\n"
   ]
  },
  {
   "cell_type": "code",
   "execution_count": 5,
   "metadata": {
    "colab": {
     "base_uri": "https://localhost:8080/"
    },
    "id": "XjbxPd0cg3ZO",
    "outputId": "22120d1d-b9da-4471-a213-61ca0f4ec89d"
   },
   "outputs": [
    {
     "data": {
      "text/plain": [
       "[1,\n",
       " 245,\n",
       " 273,\n",
       " 207,\n",
       " 156,\n",
       " 53,\n",
       " 74,\n",
       " 160,\n",
       " 26,\n",
       " 14,\n",
       " 46,\n",
       " 296,\n",
       " 26,\n",
       " 39,\n",
       " 74,\n",
       " 2979,\n",
       " 3554,\n",
       " 14,\n",
       " 46,\n",
       " 4689,\n",
       " 4329,\n",
       " 86,\n",
       " 61,\n",
       " 3499,\n",
       " 4795,\n",
       " 14,\n",
       " 61,\n",
       " 451,\n",
       " 4329,\n",
       " 17,\n",
       " 12]"
      ]
     },
     "execution_count": 5,
     "metadata": {},
     "output_type": "execute_result"
    }
   ],
   "source": [
    "train_data[10]"
   ]
  },
  {
   "cell_type": "markdown",
   "metadata": {
    "id": "C1VAdZnYg3ZO"
   },
   "source": [
    "Que podemos decodificar de forma completamente análoga a como lo hicimos con IMDB:\n"
   ]
  },
  {
   "cell_type": "code",
   "execution_count": 6,
   "metadata": {
    "id": "AqQ5If09g3ZO"
   },
   "outputs": [],
   "source": [
    "word_index = reuters.get_word_index()\n",
    "reverse_word_index = dict([(value, key) for (key, value) in word_index.items()])\n",
    "# Observa que nuestros índices tienen un offset de 3\n",
    "# porque 0, 1 y 2 son índices reservados para \"padding\", \"start of sequence\", y \"unknown\".\n",
    "decoded_newswire = ' '.join([reverse_word_index.get(i - 3, '?') for i in train_data[0]])"
   ]
  },
  {
   "cell_type": "code",
   "execution_count": 7,
   "metadata": {
    "colab": {
     "base_uri": "https://localhost:8080/",
     "height": 52
    },
    "id": "-ueE5m7bg3ZO",
    "outputId": "8219e0c5-0c45-48d3-90c5-6a821560f7eb"
   },
   "outputs": [
    {
     "data": {
      "text/plain": [
       "'? ? ? said as a result of its december acquisition of space co it expects earnings per share in 1987 of 1 15 to 1 30 dlrs per share up from 70 cts in 1986 the company said pretax net should rise to nine to 10 mln dlrs from six mln dlrs in 1986 and rental operation revenues to 19 to 22 mln dlrs from 12 5 mln dlrs it said cash flow per share this year should be 2 50 to three dlrs reuter 3'"
      ]
     },
     "execution_count": 7,
     "metadata": {},
     "output_type": "execute_result"
    }
   ],
   "source": [
    "decoded_newswire"
   ]
  },
  {
   "cell_type": "markdown",
   "metadata": {
    "id": "GV9HwT8hg3ZO"
   },
   "source": [
    "La etiqueta asociada a una noticia es un entero entre 0 y 45, que representa el índice de un topic.\n"
   ]
  },
  {
   "cell_type": "code",
   "execution_count": 8,
   "metadata": {
    "colab": {
     "base_uri": "https://localhost:8080/"
    },
    "id": "Xpn8GOgyg3ZO",
    "outputId": "a34a42d1-9dc8-429c-9e7b-18a44d312655"
   },
   "outputs": [
    {
     "data": {
      "text/plain": [
       "3"
      ]
     },
     "execution_count": 8,
     "metadata": {},
     "output_type": "execute_result"
    }
   ],
   "source": [
    "train_labels[10]"
   ]
  },
  {
   "cell_type": "markdown",
   "metadata": {
    "id": "JsJ8Wartg3ZO"
   },
   "source": [
    "## 2. Preparando los datos\n",
    "\n",
    "Usamos exactamente las mismas funciones para vectorizar los datos como en la práctica con IMBD, y prepararlos así como entrada a la red neuronal:"
   ]
  },
  {
   "cell_type": "code",
   "execution_count": 9,
   "metadata": {
    "id": "x7DQfl-rg3ZO"
   },
   "outputs": [],
   "source": [
    "import numpy as np\n",
    "\n",
    "def vectorize_sequences(sequences, dimension=10000):\n",
    "    results = np.zeros((len(sequences), dimension))\n",
    "    for i, sequence in enumerate(sequences):\n",
    "        results[i, sequence] = 1.\n",
    "    return results\n",
    "\n",
    "# vectorizamos training data\n",
    "x_train = vectorize_sequences(train_data)\n",
    "# vectorizamos test data\n",
    "x_test = vectorize_sequences(test_data)"
   ]
  },
  {
   "cell_type": "markdown",
   "metadata": {
    "id": "mUaQyGpsg3ZO"
   },
   "source": [
    "\n",
    "La diferencia principal ahora es que antes estas etiquetas eran binarias y ahora son números enteros. Podríamos tratarlas como enteros (tensores escalares) o bien hacer una codificación _one-hot_ tal y como hicimos antes, que será la opción que tomemos siguiendo un patrón similar al realizado para las vectorizaciones anteriores (aunque, en este caso, como cada noticia solo puede tener asociado un tema, los vectores tendrán solo un 1 y todo lo demás 0s):\n"
   ]
  },
  {
   "cell_type": "code",
   "execution_count": 10,
   "metadata": {
    "id": "4Mo4lqs5g3ZO"
   },
   "outputs": [],
   "source": [
    "def to_one_hot(labels, dimension=46):\n",
    "    results = np.zeros((len(labels), dimension))\n",
    "    for i, label in enumerate(labels):\n",
    "        results[i, label] = 1.\n",
    "    return results\n",
    "\n",
    "# vectorizamos training labels\n",
    "one_hot_train_labels = to_one_hot(train_labels)\n",
    "# vectorizamos test labels\n",
    "one_hot_test_labels = to_one_hot(test_labels)"
   ]
  },
  {
   "cell_type": "markdown",
   "metadata": {
    "id": "Wr80JWRog3ZO"
   },
   "source": [
    "Esta tarea es tan común que hay una función de Keras que realiza ya esta labor, y que vimos en el primer ejemplo que estudiamos de MNIST. Su resultado es exactamente el mismo que el de la función anterior:\n"
   ]
  },
  {
   "cell_type": "code",
   "execution_count": 11,
   "metadata": {
    "id": "nAvv8iPog3ZO"
   },
   "outputs": [],
   "source": [
    "from keras.utils.np_utils import to_categorical\n",
    "\n",
    "one_hot_train_labels = to_categorical(train_labels)\n",
    "one_hot_test_labels = to_categorical(test_labels)"
   ]
  },
  {
   "cell_type": "markdown",
   "metadata": {
    "id": "a1jg5Umag3ZO"
   },
   "source": [
    "## 3. Construyendo la red\n",
    "\n",
    "Como ahora la salida debe tener 46 unidades, no tiene sentido comprimir las capas anteriores a 16 unidades, ya que estaríamos creando un cuello de botella en esa parte de la red, así que trabajaremos con 2 capas densas de 64 unidades, y una capa densa de salida con 46 unidades (una por cada posible topic) pero de activación `softmax`:"
   ]
  },
  {
   "cell_type": "code",
   "execution_count": 12,
   "metadata": {
    "colab": {
     "base_uri": "https://localhost:8080/",
     "height": 422
    },
    "id": "8D00Ulzng3ZO",
    "outputId": "b2be5db6-d06e-46b8-bd95-b689c490a613"
   },
   "outputs": [
    {
     "name": "stderr",
     "output_type": "stream",
     "text": [
      "2022-03-13 16:25:51.005706: I tensorflow/compiler/jit/xla_cpu_device.cc:41] Not creating XLA devices, tf_xla_enable_xla_devices not set\n",
      "2022-03-13 16:25:51.006595: I tensorflow/stream_executor/platform/default/dso_loader.cc:49] Successfully opened dynamic library libcuda.so.1\n",
      "2022-03-13 16:25:51.502393: I tensorflow/stream_executor/cuda/cuda_gpu_executor.cc:941] successful NUMA node read from SysFS had negative value (-1), but there must be at least one NUMA node, so returning NUMA node zero\n",
      "2022-03-13 16:25:51.503427: I tensorflow/core/common_runtime/gpu/gpu_device.cc:1720] Found device 0 with properties: \n",
      "pciBusID: 0000:03:00.0 name: Tesla K40c computeCapability: 3.5\n",
      "coreClock: 0.745GHz coreCount: 15 deviceMemorySize: 11.92GiB deviceMemoryBandwidth: 268.58GiB/s\n",
      "2022-03-13 16:25:51.503511: I tensorflow/stream_executor/cuda/cuda_gpu_executor.cc:941] successful NUMA node read from SysFS had negative value (-1), but there must be at least one NUMA node, so returning NUMA node zero\n",
      "2022-03-13 16:25:51.504197: I tensorflow/core/common_runtime/gpu/gpu_device.cc:1720] Found device 1 with properties: \n",
      "pciBusID: 0000:04:00.0 name: GeForce GTX 780 Ti computeCapability: 3.5\n",
      "coreClock: 0.928GHz coreCount: 15 deviceMemorySize: 2.95GiB deviceMemoryBandwidth: 312.92GiB/s\n",
      "2022-03-13 16:25:51.504219: I tensorflow/stream_executor/platform/default/dso_loader.cc:49] Successfully opened dynamic library libcudart.so.10.1\n",
      "2022-03-13 16:25:51.505644: I tensorflow/stream_executor/platform/default/dso_loader.cc:49] Successfully opened dynamic library libcublas.so.10\n",
      "2022-03-13 16:25:51.505674: I tensorflow/stream_executor/platform/default/dso_loader.cc:49] Successfully opened dynamic library libcublasLt.so.10\n",
      "2022-03-13 16:25:51.507097: I tensorflow/stream_executor/platform/default/dso_loader.cc:49] Successfully opened dynamic library libcufft.so.10\n",
      "2022-03-13 16:25:51.507315: I tensorflow/stream_executor/platform/default/dso_loader.cc:49] Successfully opened dynamic library libcurand.so.10\n",
      "2022-03-13 16:25:51.508832: I tensorflow/stream_executor/platform/default/dso_loader.cc:49] Successfully opened dynamic library libcusolver.so.10\n",
      "2022-03-13 16:25:51.509460: I tensorflow/stream_executor/platform/default/dso_loader.cc:49] Successfully opened dynamic library libcusparse.so.10\n",
      "2022-03-13 16:25:51.512515: I tensorflow/stream_executor/platform/default/dso_loader.cc:49] Successfully opened dynamic library libcudnn.so.7\n",
      "2022-03-13 16:25:51.512617: I tensorflow/stream_executor/cuda/cuda_gpu_executor.cc:941] successful NUMA node read from SysFS had negative value (-1), but there must be at least one NUMA node, so returning NUMA node zero\n",
      "2022-03-13 16:25:51.513698: I tensorflow/stream_executor/cuda/cuda_gpu_executor.cc:941] successful NUMA node read from SysFS had negative value (-1), but there must be at least one NUMA node, so returning NUMA node zero\n",
      "2022-03-13 16:25:51.514423: I tensorflow/stream_executor/cuda/cuda_gpu_executor.cc:941] successful NUMA node read from SysFS had negative value (-1), but there must be at least one NUMA node, so returning NUMA node zero\n",
      "2022-03-13 16:25:51.515430: I tensorflow/stream_executor/cuda/cuda_gpu_executor.cc:941] successful NUMA node read from SysFS had negative value (-1), but there must be at least one NUMA node, so returning NUMA node zero\n",
      "2022-03-13 16:25:51.516102: I tensorflow/core/common_runtime/gpu/gpu_device.cc:1862] Adding visible gpu devices: 0, 1\n",
      "2022-03-13 16:25:51.516861: I tensorflow/core/platform/cpu_feature_guard.cc:142] This TensorFlow binary is optimized with oneAPI Deep Neural Network Library (oneDNN) to use the following CPU instructions in performance-critical operations:  SSE4.1 SSE4.2 AVX AVX2 FMA\n",
      "To enable them in other operations, rebuild TensorFlow with the appropriate compiler flags.\n",
      "2022-03-13 16:25:51.578083: I tensorflow/stream_executor/cuda/cuda_gpu_executor.cc:941] successful NUMA node read from SysFS had negative value (-1), but there must be at least one NUMA node, so returning NUMA node zero\n",
      "2022-03-13 16:25:51.579075: I tensorflow/core/common_runtime/gpu/gpu_device.cc:1720] Found device 0 with properties: \n",
      "pciBusID: 0000:03:00.0 name: Tesla K40c computeCapability: 3.5\n",
      "coreClock: 0.745GHz coreCount: 15 deviceMemorySize: 11.92GiB deviceMemoryBandwidth: 268.58GiB/s\n",
      "2022-03-13 16:25:51.579156: I tensorflow/stream_executor/cuda/cuda_gpu_executor.cc:941] successful NUMA node read from SysFS had negative value (-1), but there must be at least one NUMA node, so returning NUMA node zero\n",
      "2022-03-13 16:25:51.579836: I tensorflow/core/common_runtime/gpu/gpu_device.cc:1720] Found device 1 with properties: \n",
      "pciBusID: 0000:04:00.0 name: GeForce GTX 780 Ti computeCapability: 3.5\n",
      "coreClock: 0.928GHz coreCount: 15 deviceMemorySize: 2.95GiB deviceMemoryBandwidth: 312.92GiB/s\n",
      "2022-03-13 16:25:51.579857: I tensorflow/stream_executor/platform/default/dso_loader.cc:49] Successfully opened dynamic library libcudart.so.10.1\n",
      "2022-03-13 16:25:51.579877: I tensorflow/stream_executor/platform/default/dso_loader.cc:49] Successfully opened dynamic library libcublas.so.10\n",
      "2022-03-13 16:25:51.579890: I tensorflow/stream_executor/platform/default/dso_loader.cc:49] Successfully opened dynamic library libcublasLt.so.10\n",
      "2022-03-13 16:25:51.579902: I tensorflow/stream_executor/platform/default/dso_loader.cc:49] Successfully opened dynamic library libcufft.so.10\n",
      "2022-03-13 16:25:51.579914: I tensorflow/stream_executor/platform/default/dso_loader.cc:49] Successfully opened dynamic library libcurand.so.10\n",
      "2022-03-13 16:25:51.579925: I tensorflow/stream_executor/platform/default/dso_loader.cc:49] Successfully opened dynamic library libcusolver.so.10\n",
      "2022-03-13 16:25:51.579937: I tensorflow/stream_executor/platform/default/dso_loader.cc:49] Successfully opened dynamic library libcusparse.so.10\n",
      "2022-03-13 16:25:51.579948: I tensorflow/stream_executor/platform/default/dso_loader.cc:49] Successfully opened dynamic library libcudnn.so.7\n",
      "2022-03-13 16:25:51.580004: I tensorflow/stream_executor/cuda/cuda_gpu_executor.cc:941] successful NUMA node read from SysFS had negative value (-1), but there must be at least one NUMA node, so returning NUMA node zero\n",
      "2022-03-13 16:25:51.581012: I tensorflow/stream_executor/cuda/cuda_gpu_executor.cc:941] successful NUMA node read from SysFS had negative value (-1), but there must be at least one NUMA node, so returning NUMA node zero\n",
      "2022-03-13 16:25:51.581729: I tensorflow/stream_executor/cuda/cuda_gpu_executor.cc:941] successful NUMA node read from SysFS had negative value (-1), but there must be at least one NUMA node, so returning NUMA node zero\n",
      "2022-03-13 16:25:51.582729: I tensorflow/stream_executor/cuda/cuda_gpu_executor.cc:941] successful NUMA node read from SysFS had negative value (-1), but there must be at least one NUMA node, so returning NUMA node zero\n",
      "2022-03-13 16:25:51.583401: I tensorflow/core/common_runtime/gpu/gpu_device.cc:1862] Adding visible gpu devices: 0, 1\n",
      "2022-03-13 16:25:51.583427: I tensorflow/stream_executor/platform/default/dso_loader.cc:49] Successfully opened dynamic library libcudart.so.10.1\n",
      "2022-03-13 16:25:52.317280: I tensorflow/core/common_runtime/gpu/gpu_device.cc:1261] Device interconnect StreamExecutor with strength 1 edge matrix:\n",
      "2022-03-13 16:25:52.317308: I tensorflow/core/common_runtime/gpu/gpu_device.cc:1267]      0 1 \n",
      "2022-03-13 16:25:52.317320: I tensorflow/core/common_runtime/gpu/gpu_device.cc:1280] 0:   N Y \n",
      "2022-03-13 16:25:52.317324: I tensorflow/core/common_runtime/gpu/gpu_device.cc:1280] 1:   Y N \n",
      "2022-03-13 16:25:52.317578: I tensorflow/stream_executor/cuda/cuda_gpu_executor.cc:941] successful NUMA node read from SysFS had negative value (-1), but there must be at least one NUMA node, so returning NUMA node zero\n",
      "2022-03-13 16:25:52.318644: I tensorflow/stream_executor/cuda/cuda_gpu_executor.cc:941] successful NUMA node read from SysFS had negative value (-1), but there must be at least one NUMA node, so returning NUMA node zero\n",
      "2022-03-13 16:25:52.319384: I tensorflow/stream_executor/cuda/cuda_gpu_executor.cc:941] successful NUMA node read from SysFS had negative value (-1), but there must be at least one NUMA node, so returning NUMA node zero\n",
      "2022-03-13 16:25:52.320400: I tensorflow/stream_executor/cuda/cuda_gpu_executor.cc:941] successful NUMA node read from SysFS had negative value (-1), but there must be at least one NUMA node, so returning NUMA node zero\n",
      "2022-03-13 16:25:52.321379: I tensorflow/core/common_runtime/gpu/gpu_device.cc:1406] Created TensorFlow device (/job:localhost/replica:0/task:0/device:GPU:0 with 11328 MB memory) -> physical GPU (device: 0, name: Tesla K40c, pci bus id: 0000:03:00.0, compute capability: 3.5)\n",
      "2022-03-13 16:25:52.321614: I tensorflow/stream_executor/cuda/cuda_gpu_executor.cc:941] successful NUMA node read from SysFS had negative value (-1), but there must be at least one NUMA node, so returning NUMA node zero\n",
      "2022-03-13 16:25:52.322337: I tensorflow/stream_executor/cuda/cuda_gpu_executor.cc:941] successful NUMA node read from SysFS had negative value (-1), but there must be at least one NUMA node, so returning NUMA node zero\n",
      "2022-03-13 16:25:52.323012: I tensorflow/core/common_runtime/gpu/gpu_device.cc:1406] Created TensorFlow device (/job:localhost/replica:0/task:0/device:GPU:1 with 2566 MB memory) -> physical GPU (device: 1, name: GeForce GTX 780 Ti, pci bus id: 0000:04:00.0, compute capability: 3.5)\n",
      "2022-03-13 16:25:52.323248: I tensorflow/compiler/jit/xla_gpu_device.cc:99] Not creating XLA devices, tf_xla_enable_xla_devices not set\n"
     ]
    },
    {
     "data": {
      "image/png": "[encoded data removed]",
      "text/plain": [
       "<IPython.core.display.Image object>"
      ]
     },
     "execution_count": 12,
     "metadata": {},
     "output_type": "execute_result"
    }
   ],
   "source": [
    "from keras import models\n",
    "from keras import layers\n",
    "from keras.utils.vis_utils import plot_model\n",
    "\n",
    "red = models.Sequential()\n",
    "red.add(layers.Dense(64, activation='relu', input_shape=(10000,)))\n",
    "red.add(layers.Dense(64, activation='relu'))\n",
    "red.add(layers.Dense(46, activation='softmax'))\n",
    "\n",
    "plot_model(red, to_file='ReutersModel_plot.png', show_shapes=True, show_layer_names=True)"
   ]
  },
  {
   "cell_type": "markdown",
   "metadata": {
    "id": "CTSYNcmxg3ZO"
   },
   "source": [
    "En caso de que no consigas visualizar la red, aquí tienes el resultado esperado:\n",
    "\n",
    "![](https://github.com/miguelamda/DL/blob/master/3.%20Frameworks%20Software/imgs/ReutersModel_plot.png?raw=1)\n",
    "\n",
    "Destaquemos las diferencias que podemos encontrar respecto al caso anterior:\n",
    "\n",
    "* La red acaba con una capa densa de 46 unidades, de forma que la salida será un vector de tamaño 46, uno por cada posible clase de salida.\n",
    "\n",
    "* La última capa usa activación `softmax`, lo que significa que la salida se podrá interpretar como una *distribución de probabilidad* sobre las diferentes clases de salida (un vector positivo de tamaño 46 y que suma 1).\n",
    "\n",
    "Siguiendo un razonamiento similar al caso del IMDB, la función de pérdida adecuada en este caso es `categorical_crossentropy` (similar, pero para el caso no binario/multi-clase):"
   ]
  },
  {
   "cell_type": "code",
   "execution_count": 13,
   "metadata": {
    "id": "6YtoX9Psg3ZO"
   },
   "outputs": [],
   "source": [
    "red.compile(optimizer='rmsprop',\n",
    "              loss='categorical_crossentropy',\n",
    "              metrics=['accuracy'])"
   ]
  },
  {
   "cell_type": "markdown",
   "metadata": {
    "id": "SA7atPgng3ZO"
   },
   "source": [
    "## 4. Validando el modelo\n",
    "\n",
    "Al igual que antes, vamos a separar 1.000 muestras del conjunto de entrenamiento para formar un conjunto de validación que nos servirá para evaluar cómo funciona el modelo a medida que va aprendiendo (y controlar, por ejemplo, el *overfitting*):"
   ]
  },
  {
   "cell_type": "code",
   "execution_count": 14,
   "metadata": {
    "id": "VlzFk_Ofg3ZO"
   },
   "outputs": [],
   "source": [
    "x_val = x_train[:1000]\n",
    "partial_x_train = x_train[1000:]\n",
    "\n",
    "y_val = one_hot_train_labels[:1000]\n",
    "partial_y_train = one_hot_train_labels[1000:]"
   ]
  },
  {
   "cell_type": "markdown",
   "metadata": {
    "id": "QYA4sUk_g3ZO"
   },
   "source": [
    "Ahora entrenemos el modelo con 20 epochs, usando el conjunto de validación para tener información adicional de cómo evoluciona:\n"
   ]
  },
  {
   "cell_type": "code",
   "execution_count": 15,
   "metadata": {
    "colab": {
     "base_uri": "https://localhost:8080/"
    },
    "id": "ioYEhcZJg3ZO",
    "outputId": "d7f3eddf-51f3-43a9-ae5f-9d3dd022f0fd"
   },
   "outputs": [
    {
     "name": "stderr",
     "output_type": "stream",
     "text": [
      "2022-03-13 16:25:52.703946: I tensorflow/compiler/mlir/mlir_graph_optimization_pass.cc:116] None of the MLIR optimization passes are enabled (registered 2)\n",
      "2022-03-13 16:25:52.704429: I tensorflow/core/platform/profile_utils/cpu_utils.cc:112] CPU Frequency: 3300215000 Hz\n"
     ]
    },
    {
     "name": "stdout",
     "output_type": "stream",
     "text": [
      "Epoch 1/20\n",
      " 7/16 [============>.................] - ETA: 0s - loss: 3.5768 - accuracy: 0.3090"
     ]
    },
    {
     "name": "stderr",
     "output_type": "stream",
     "text": [
      "2022-03-13 16:25:53.074707: I tensorflow/stream_executor/platform/default/dso_loader.cc:49] Successfully opened dynamic library libcublas.so.10\n"
     ]
    },
    {
     "name": "stdout",
     "output_type": "stream",
     "text": [
      "16/16 [==============================] - 1s 31ms/step - loss: 3.1527 - accuracy: 0.4239 - val_loss: 1.7144 - val_accuracy: 0.6380\n",
      "Epoch 2/20\n",
      "16/16 [==============================] - 0s 11ms/step - loss: 1.4869 - accuracy: 0.7016 - val_loss: 1.3094 - val_accuracy: 0.7240\n",
      "Epoch 3/20\n",
      "16/16 [==============================] - 0s 11ms/step - loss: 1.0769 - accuracy: 0.7683 - val_loss: 1.1140 - val_accuracy: 0.7670\n",
      "Epoch 4/20\n",
      "16/16 [==============================] - 0s 11ms/step - loss: 0.8420 - accuracy: 0.8215 - val_loss: 1.0868 - val_accuracy: 0.7630\n",
      "Epoch 5/20\n",
      "16/16 [==============================] - 0s 11ms/step - loss: 0.6634 - accuracy: 0.8529 - val_loss: 0.9579 - val_accuracy: 0.7950\n",
      "Epoch 6/20\n",
      "16/16 [==============================] - 0s 11ms/step - loss: 0.5289 - accuracy: 0.8879 - val_loss: 0.9170 - val_accuracy: 0.8170\n",
      "Epoch 7/20\n",
      "16/16 [==============================] - 0s 11ms/step - loss: 0.4237 - accuracy: 0.9129 - val_loss: 0.9101 - val_accuracy: 0.8090\n",
      "Epoch 8/20\n",
      "16/16 [==============================] - 0s 11ms/step - loss: 0.3513 - accuracy: 0.9289 - val_loss: 0.8923 - val_accuracy: 0.8180\n",
      "Epoch 9/20\n",
      "16/16 [==============================] - 0s 11ms/step - loss: 0.2775 - accuracy: 0.9441 - val_loss: 0.9438 - val_accuracy: 0.8070\n",
      "Epoch 10/20\n",
      "16/16 [==============================] - 0s 11ms/step - loss: 0.2290 - accuracy: 0.9507 - val_loss: 0.8824 - val_accuracy: 0.8270\n",
      "Epoch 11/20\n",
      "16/16 [==============================] - 0s 11ms/step - loss: 0.1974 - accuracy: 0.9541 - val_loss: 0.9473 - val_accuracy: 0.8180\n",
      "Epoch 12/20\n",
      "16/16 [==============================] - 0s 11ms/step - loss: 0.1767 - accuracy: 0.9564 - val_loss: 0.9791 - val_accuracy: 0.8170\n",
      "Epoch 13/20\n",
      "16/16 [==============================] - 0s 11ms/step - loss: 0.1611 - accuracy: 0.9591 - val_loss: 0.9455 - val_accuracy: 0.8200\n",
      "Epoch 14/20\n",
      "16/16 [==============================] - 0s 11ms/step - loss: 0.1392 - accuracy: 0.9589 - val_loss: 0.9715 - val_accuracy: 0.8210\n",
      "Epoch 15/20\n",
      "16/16 [==============================] - 0s 11ms/step - loss: 0.1407 - accuracy: 0.9568 - val_loss: 0.9811 - val_accuracy: 0.8160\n",
      "Epoch 16/20\n",
      "16/16 [==============================] - 0s 11ms/step - loss: 0.1187 - accuracy: 0.9630 - val_loss: 1.0005 - val_accuracy: 0.8130\n",
      "Epoch 17/20\n",
      "16/16 [==============================] - 0s 11ms/step - loss: 0.1164 - accuracy: 0.9600 - val_loss: 0.9968 - val_accuracy: 0.8200\n",
      "Epoch 18/20\n",
      "16/16 [==============================] - 0s 11ms/step - loss: 0.1082 - accuracy: 0.9636 - val_loss: 1.0283 - val_accuracy: 0.8020\n",
      "Epoch 19/20\n",
      "16/16 [==============================] - 0s 11ms/step - loss: 0.1184 - accuracy: 0.9575 - val_loss: 1.0462 - val_accuracy: 0.8190\n",
      "Epoch 20/20\n",
      "16/16 [==============================] - 0s 9ms/step - loss: 0.1058 - accuracy: 0.9595 - val_loss: 1.0646 - val_accuracy: 0.8160\n"
     ]
    }
   ],
   "source": [
    "entrenamiento = red.fit(partial_x_train,\n",
    "                    partial_y_train,\n",
    "                    epochs=20,\n",
    "                    batch_size=512,\n",
    "                    validation_data=(x_val, y_val))"
   ]
  },
  {
   "cell_type": "markdown",
   "metadata": {
    "id": "OduU28Rjg3ZO"
   },
   "source": [
    "Podemos mostrar las curvas de pérdida y accuracy en los datos de entrenamiento y validación::\n"
   ]
  },
  {
   "cell_type": "code",
   "execution_count": 16,
   "metadata": {
    "colab": {
     "base_uri": "https://localhost:8080/",
     "height": 295
    },
    "id": "nNxd1ejsg3ZO",
    "outputId": "d2fa8b6a-d76f-4292-e413-c0a62414ea81"
   },
   "outputs": [
    {
     "data": {
      "image/png": "[encoded data removed]",
      "text/plain": [
       "<Figure size 432x288 with 1 Axes>"
      ]
     },
     "metadata": {
      "needs_background": "light"
     },
     "output_type": "display_data"
    }
   ],
   "source": [
    "import matplotlib.pyplot as plt\n",
    "\n",
    "ent_loss = entrenamiento.history['loss']\n",
    "val_loss = entrenamiento.history['val_loss']\n",
    "\n",
    "epochs = range(1, len(ent_loss) + 1)\n",
    "\n",
    "plt.plot(epochs, ent_loss, 'bo', label='Entrenamiento')\n",
    "plt.plot(epochs, val_loss, 'b', label='Validación')\n",
    "plt.title('Pérdida en Entrenamiento y Validación')\n",
    "plt.xlabel('Epochs')\n",
    "plt.ylabel('Pérdida')\n",
    "plt.legend()\n",
    "\n",
    "plt.show()"
   ]
  },
  {
   "cell_type": "code",
   "execution_count": 17,
   "metadata": {
    "colab": {
     "base_uri": "https://localhost:8080/",
     "height": 295
    },
    "id": "0H2v4UYFg3ZO",
    "outputId": "0eb90b23-c079-4b65-fde7-54d686feafa6"
   },
   "outputs": [
    {
     "data": {
      "image/png": "[encoded data removed]",
      "text/plain": [
       "<Figure size 432x288 with 1 Axes>"
      ]
     },
     "metadata": {
      "needs_background": "light"
     },
     "output_type": "display_data"
    }
   ],
   "source": [
    "plt.clf()   # limpia la figura\n",
    "\n",
    "ent_acc = entrenamiento.history['accuracy']\n",
    "val_acc = entrenamiento.history['val_accuracy']\n",
    "\n",
    "plt.plot(epochs, ent_acc, 'bo', label='Entrenamiento')\n",
    "plt.plot(epochs, val_acc, 'b', label='Validación')\n",
    "plt.title('Accuracy en Entrenamiento y Validación')\n",
    "plt.xlabel('Epochs')\n",
    "plt.ylabel('Accuracy')\n",
    "plt.legend()\n",
    "\n",
    "plt.show()"
   ]
  },
  {
   "cell_type": "markdown",
   "metadata": {
    "id": "AZ_-ulYVg3ZO"
   },
   "source": [
    "Que nos muestran que el modelo comienza a sobreajustar a partir de la 9ª epoch, por lo que entrenaremos un modelo limpio solo durante 9 epochs, y mediremos su rendimiento con los datos de test:\n"
   ]
  },
  {
   "cell_type": "code",
   "execution_count": 18,
   "metadata": {
    "colab": {
     "base_uri": "https://localhost:8080/"
    },
    "id": "AcFKNAoHg3ZO",
    "outputId": "286f83bb-e292-406b-a5eb-eab821c16e81"
   },
   "outputs": [
    {
     "name": "stdout",
     "output_type": "stream",
     "text": [
      "Epoch 1/8\n",
      "16/16 [==============================] - 1s 19ms/step - loss: 3.1621 - accuracy: 0.3756 - val_loss: 1.7456 - val_accuracy: 0.6430\n",
      "Epoch 2/8\n",
      "16/16 [==============================] - 0s 11ms/step - loss: 1.5326 - accuracy: 0.7003 - val_loss: 1.3153 - val_accuracy: 0.7020\n",
      "Epoch 3/8\n",
      "16/16 [==============================] - 0s 11ms/step - loss: 1.0864 - accuracy: 0.7674 - val_loss: 1.1544 - val_accuracy: 0.7460\n",
      "Epoch 4/8\n",
      "16/16 [==============================] - 0s 11ms/step - loss: 0.8433 - accuracy: 0.8216 - val_loss: 1.0598 - val_accuracy: 0.7640\n",
      "Epoch 5/8\n",
      "16/16 [==============================] - 0s 11ms/step - loss: 0.6624 - accuracy: 0.8657 - val_loss: 0.9675 - val_accuracy: 0.7980\n",
      "Epoch 6/8\n",
      "16/16 [==============================] - 0s 11ms/step - loss: 0.5293 - accuracy: 0.8885 - val_loss: 0.9266 - val_accuracy: 0.8050\n",
      "Epoch 7/8\n",
      "16/16 [==============================] - 0s 11ms/step - loss: 0.4201 - accuracy: 0.9120 - val_loss: 0.8979 - val_accuracy: 0.8130\n",
      "Epoch 8/8\n",
      "16/16 [==============================] - 0s 9ms/step - loss: 0.3512 - accuracy: 0.9259 - val_loss: 0.8982 - val_accuracy: 0.8090\n",
      "71/71 [==============================] - 0s 2ms/step - loss: 0.9788 - accuracy: 0.7850\n"
     ]
    }
   ],
   "source": [
    "red2 = models.Sequential()\n",
    "red2.add(layers.Dense(64, activation='relu', input_shape=(10000,)))\n",
    "red2.add(layers.Dense(64, activation='relu'))\n",
    "red2.add(layers.Dense(46, activation='softmax'))\n",
    "\n",
    "red2.compile(optimizer='rmsprop',\n",
    "              loss='categorical_crossentropy',\n",
    "              metrics=['accuracy'])\n",
    "red2.fit(partial_x_train,\n",
    "          partial_y_train,\n",
    "          epochs=8,\n",
    "          batch_size=512,\n",
    "          validation_data=(x_val, y_val))\n",
    "results = red2.evaluate(x_test, one_hot_test_labels)"
   ]
  },
  {
   "cell_type": "code",
   "execution_count": 19,
   "metadata": {
    "colab": {
     "base_uri": "https://localhost:8080/"
    },
    "id": "X7SX16vng3ZO",
    "outputId": "ef65de46-407e-4228-bd05-6aedab3b0f5d"
   },
   "outputs": [
    {
     "data": {
      "text/plain": [
       "[0.9788478016853333, 0.7849510312080383]"
      ]
     },
     "execution_count": 19,
     "metadata": {},
     "output_type": "execute_result"
    }
   ],
   "source": [
    "results"
   ]
  },
  {
   "cell_type": "markdown",
   "metadata": {
    "id": "QOgfj02ig3ZP"
   },
   "source": [
    "\n",
    "El modelo obtenido consigue una accuracy de ~77%. Si la clasificación fuera binaria y estuviera balanceada, un calsificador aleatorio alcanzaría un 50%, pero al ser multi-clase en este caso uno aleatorio esperaría no más del 19%, por lo no lo hace nada mal:\n"
   ]
  },
  {
   "cell_type": "code",
   "execution_count": 20,
   "metadata": {
    "colab": {
     "base_uri": "https://localhost:8080/"
    },
    "id": "CJphaAsjg3ZP",
    "outputId": "6ff04ad3-4a33-407d-c344-0a0f857b1f20"
   },
   "outputs": [
    {
     "data": {
      "text/plain": [
       "0.1794300979519145"
      ]
     },
     "execution_count": 20,
     "metadata": {},
     "output_type": "execute_result"
    }
   ],
   "source": [
    "import copy\n",
    "\n",
    "# probamos cómo lo haría un clasificador completamente aleatorio\n",
    "test_labels_copy = copy.copy(test_labels)\n",
    "np.random.shuffle(test_labels_copy)\n",
    "float(np.sum(np.array(test_labels) == np.array(test_labels_copy))) / len(test_labels)"
   ]
  },
  {
   "cell_type": "markdown",
   "metadata": {
    "id": "XM691YXRg3ZP"
   },
   "source": [
    "## 5. Predicciones en nuevos datos\n",
    "\n",
    "Usando el método `predict` podemos ver cómo nuestro modelo funciona sobre datos no vistos. Por ejemplo, si trabajamos sobre los datos de test:"
   ]
  },
  {
   "cell_type": "code",
   "execution_count": 21,
   "metadata": {
    "id": "Jk8lCTljg3ZP"
   },
   "outputs": [],
   "source": [
    "predictions = red2.predict(x_test)"
   ]
  },
  {
   "cell_type": "markdown",
   "metadata": {
    "id": "ErApEWVfg3ZP"
   },
   "source": [
    "Podemos comprobar que cada entrada de `predictions` es un vector de longitud 46:\n"
   ]
  },
  {
   "cell_type": "code",
   "execution_count": 22,
   "metadata": {
    "colab": {
     "base_uri": "https://localhost:8080/"
    },
    "id": "vzAMJnFag3ZP",
    "outputId": "ba834361-4d09-4885-a6a4-5cb57b96a143"
   },
   "outputs": [
    {
     "data": {
      "text/plain": [
       "(46,)"
      ]
     },
     "execution_count": 22,
     "metadata": {},
     "output_type": "execute_result"
    }
   ],
   "source": [
    "predictions[0].shape"
   ]
  },
  {
   "cell_type": "markdown",
   "metadata": {
    "id": "lWAs9XEqg3ZP"
   },
   "source": [
    "Cuyos coeficientes suman 1:\n"
   ]
  },
  {
   "cell_type": "code",
   "execution_count": 23,
   "metadata": {
    "colab": {
     "base_uri": "https://localhost:8080/"
    },
    "id": "L2W-8c4ag3ZP",
    "outputId": "92774a87-442a-4ba1-a04f-c440fde5cb15"
   },
   "outputs": [
    {
     "data": {
      "text/plain": [
       "1.0000001"
      ]
     },
     "execution_count": 23,
     "metadata": {},
     "output_type": "execute_result"
    }
   ],
   "source": [
    "np.sum(predictions[0])"
   ]
  },
  {
   "cell_type": "markdown",
   "metadata": {
    "id": "JQzbHDlCg3ZP"
   },
   "source": [
    "Y donde el mayor valor indica la predicción del modelo (la mayor probabilidad):\n"
   ]
  },
  {
   "cell_type": "code",
   "execution_count": 24,
   "metadata": {
    "colab": {
     "base_uri": "https://localhost:8080/"
    },
    "id": "zErzdptxg3ZP",
    "outputId": "d55ee99a-d1ae-40a3-c5da-2dd628d8c80e"
   },
   "outputs": [
    {
     "data": {
      "text/plain": [
       "3"
      ]
     },
     "execution_count": 24,
     "metadata": {},
     "output_type": "execute_result"
    }
   ],
   "source": [
    "np.argmax(predictions[0])"
   ]
  },
  {
   "cell_type": "markdown",
   "metadata": {
    "id": "A_wgaegdg3ZP"
   },
   "source": [
    "## 6. Salidas Categóricas Discretas\n",
    "\n",
    "Si hubiéramos decidido manejar las etiquetas directamente como valores enteros, entonces hubiera sido conveniente cambiar de función de pérdida de `categorical_crossentropy` a `sparse_categorical_crossentropy`. Esta función de pérdida está preparada para medir errores cuando las salidas son categóricas (no en one-hot encoding):"
   ]
  },
  {
   "cell_type": "code",
   "execution_count": 25,
   "metadata": {
    "colab": {
     "base_uri": "https://localhost:8080/"
    },
    "id": "2eJrnHOXg3ZP",
    "outputId": "7634a618-a956-427e-a2dc-4027aa255c88"
   },
   "outputs": [
    {
     "data": {
      "text/plain": [
       "array([ 3,  4,  3,  4,  4,  4,  4,  3,  3, 16])"
      ]
     },
     "execution_count": 25,
     "metadata": {},
     "output_type": "execute_result"
    }
   ],
   "source": [
    "y_train = np.array(train_labels)\n",
    "y_test = np.array(test_labels)\n",
    "y_train[:10]"
   ]
  },
  {
   "cell_type": "code",
   "execution_count": 26,
   "metadata": {
    "id": "XRpINgK8g3ZP"
   },
   "outputs": [],
   "source": [
    "red2.compile(optimizer='rmsprop', loss='sparse_categorical_crossentropy', metrics=['acc'])"
   ]
  },
  {
   "cell_type": "markdown",
   "metadata": {
    "id": "xSY9XhYTg3ZP"
   },
   "source": [
    "En realidad, es la misma función que antes, pero con transformaciones internas para manejar valores enteros.\n"
   ]
  },
  {
   "cell_type": "markdown",
   "metadata": {
    "id": "jU1l_3cQg3ZP"
   },
   "source": [
    "## 7. Tamaño de las capas intermedias\n",
    "\n",
    "Podemos hacer el experimento de ver qué pasaría si trabajáramos con capas intermedias que producen cuellos de botella a la información que se transmite a lo largo de la red. Por ejemplo, si la segunda capa la cambiamos a 4 unidades:"
   ]
  },
  {
   "cell_type": "code",
   "execution_count": 27,
   "metadata": {
    "colab": {
     "base_uri": "https://localhost:8080/"
    },
    "id": "0LLLMHcPg3ZP",
    "outputId": "4ef0d42e-db16-430d-9ec4-76e51a5b2749"
   },
   "outputs": [
    {
     "name": "stdout",
     "output_type": "stream",
     "text": [
      "Epoch 1/20\n",
      "63/63 [==============================] - 1s 6ms/step - loss: 3.6777 - accuracy: 0.0196 - val_loss: 3.0419 - val_accuracy: 0.2650\n",
      "Epoch 2/20\n",
      "63/63 [==============================] - 0s 6ms/step - loss: 2.7834 - accuracy: 0.2653 - val_loss: 2.1639 - val_accuracy: 0.2700\n",
      "Epoch 3/20\n",
      "63/63 [==============================] - 0s 4ms/step - loss: 1.9243 - accuracy: 0.4450 - val_loss: 1.6485 - val_accuracy: 0.6330\n",
      "Epoch 4/20\n",
      "63/63 [==============================] - 0s 4ms/step - loss: 1.4270 - accuracy: 0.6675 - val_loss: 1.4658 - val_accuracy: 0.6610\n",
      "Epoch 5/20\n",
      "63/63 [==============================] - 0s 4ms/step - loss: 1.2174 - accuracy: 0.7009 - val_loss: 1.4140 - val_accuracy: 0.6660\n",
      "Epoch 6/20\n",
      "63/63 [==============================] - 0s 4ms/step - loss: 1.1126 - accuracy: 0.7143 - val_loss: 1.3629 - val_accuracy: 0.6950\n",
      "Epoch 7/20\n",
      "63/63 [==============================] - 0s 4ms/step - loss: 0.9463 - accuracy: 0.7616 - val_loss: 1.3405 - val_accuracy: 0.7050\n",
      "Epoch 8/20\n",
      "63/63 [==============================] - 0s 4ms/step - loss: 0.8788 - accuracy: 0.7817 - val_loss: 1.3295 - val_accuracy: 0.7120\n",
      "Epoch 9/20\n",
      "63/63 [==============================] - 0s 4ms/step - loss: 0.7966 - accuracy: 0.8053 - val_loss: 1.3870 - val_accuracy: 0.6950\n",
      "Epoch 10/20\n",
      "63/63 [==============================] - 0s 4ms/step - loss: 0.7393 - accuracy: 0.8196 - val_loss: 1.3632 - val_accuracy: 0.7130\n",
      "Epoch 11/20\n",
      "63/63 [==============================] - 0s 4ms/step - loss: 0.7002 - accuracy: 0.8333 - val_loss: 1.3961 - val_accuracy: 0.7130\n",
      "Epoch 12/20\n",
      "63/63 [==============================] - 0s 4ms/step - loss: 0.6623 - accuracy: 0.8309 - val_loss: 1.4354 - val_accuracy: 0.7110\n",
      "Epoch 13/20\n",
      "63/63 [==============================] - 0s 4ms/step - loss: 0.6098 - accuracy: 0.8416 - val_loss: 1.4881 - val_accuracy: 0.7070\n",
      "Epoch 14/20\n",
      "63/63 [==============================] - 0s 4ms/step - loss: 0.5684 - accuracy: 0.8498 - val_loss: 1.4991 - val_accuracy: 0.7180\n",
      "Epoch 15/20\n",
      "63/63 [==============================] - 0s 4ms/step - loss: 0.5192 - accuracy: 0.8617 - val_loss: 1.5691 - val_accuracy: 0.7120\n",
      "Epoch 16/20\n",
      "63/63 [==============================] - 0s 4ms/step - loss: 0.4911 - accuracy: 0.8716 - val_loss: 1.6043 - val_accuracy: 0.7140\n",
      "Epoch 17/20\n",
      "63/63 [==============================] - 0s 4ms/step - loss: 0.4657 - accuracy: 0.8740 - val_loss: 1.6585 - val_accuracy: 0.7140\n",
      "Epoch 18/20\n",
      "63/63 [==============================] - 0s 4ms/step - loss: 0.4369 - accuracy: 0.8881 - val_loss: 1.7208 - val_accuracy: 0.7160\n",
      "Epoch 19/20\n",
      "63/63 [==============================] - 0s 4ms/step - loss: 0.4112 - accuracy: 0.8983 - val_loss: 1.7973 - val_accuracy: 0.7190\n",
      "Epoch 20/20\n",
      "63/63 [==============================] - 0s 4ms/step - loss: 0.3880 - accuracy: 0.8984 - val_loss: 1.8510 - val_accuracy: 0.7010\n"
     ]
    },
    {
     "data": {
      "text/plain": [
       "<tensorflow.python.keras.callbacks.History at 0x7f11d533d040>"
      ]
     },
     "execution_count": 27,
     "metadata": {},
     "output_type": "execute_result"
    }
   ],
   "source": [
    "red3 = models.Sequential()\n",
    "red3.add(layers.Dense(64, activation='relu', input_shape=(10000,)))\n",
    "red3.add(layers.Dense(4, activation='relu'))\n",
    "red3.add(layers.Dense(46, activation='softmax'))\n",
    "\n",
    "red3.compile(optimizer='rmsprop',\n",
    "              loss='categorical_crossentropy',\n",
    "              metrics=['accuracy'])\n",
    "red3.fit(partial_x_train,\n",
    "          partial_y_train,\n",
    "          epochs=20,\n",
    "          batch_size=128,\n",
    "          validation_data=(x_val, y_val))"
   ]
  },
  {
   "cell_type": "markdown",
   "metadata": {
    "id": "LxrlUJ9Qg3ZP"
   },
   "source": [
    "\n",
    "Podemos observar que el rendimiento del modelo cae al ~70% de accuracy, un 9% de caida respecto a la aproximación anterior, debido al hecho de que ahora la red intenta comprimir toda la información de las 64 neuronas anteriores en 4 neuronas para volver a descomprimirlo en 46 neuronas de salida, y aunque es capaz de mantener mucha información en esas pocas neuronas, pierde mucha estructura de la información original en ese proceso.\n"
   ]
  },
  {
   "cell_type": "markdown",
   "metadata": {
    "id": "42rf74bFg3ZP"
   },
   "source": [
    "## 8. Trabajo Opcional Propuesto\n",
    "\n",
    "* Intenta usar otro tamaño en las capas, ampliando o reduciendo: 32, 128,...\n",
    "* Intenta usar más o menos cantidad de capas ocultas.\n",
    "* Cambia la medida de rendimiento a categorical_accuracy, ¿observas diferencia?\n",
    "* Usa otro optimizador distinto a RMSProp, qué diferencias observas en las gráficas obtenidas en el entrenamiento."
   ]
  },
  {
   "cell_type": "markdown",
   "metadata": {
    "id": "oGOmwd_bg3ZP"
   },
   "source": [
    "## 9. Conclusiones\n",
    "\n",
    "Algunas conclusiones que podemos ir apuntando de este ejemplo:\n",
    "\n",
    "* Si quieres clasificar entre $N$ clases, tu red debe acabar en una capa densa de tamaño $N$.\n",
    "* Si la clasificación es disjunta, la última capa debe usar activación `softmax`, de esa forma obtendrás una distribución de probabilidad sobre las N clases de salida.\n",
    "* Casi con toda seguridad tendrás que usar *Categorical crossentropy* como función de pérdida.\n",
    "* Hay dos formas de manejar las etiquetas en un problema de clasificación multi-clase:\n",
    "    * Por _Codificación Categórica_ (\"one-hot encoding\") y usando `categorical_crossentropy` como función de pérdida.\n",
    "    * Codificando las etiquetas como enteros, y usando `sparse_categorical_crossentropy` como función de pérdida.\n",
    "* Si el número de categorías es muy alto, evita los cuellos de botella con capas intermedias demasiado pequeñas."
   ]
  },
  {
   "cell_type": "markdown",
   "metadata": {},
   "source": [
    "## 10. Resolución trabajo propuesto\n",
    "Autor: Ángel Manuel Calzado Llamas  \n",
    "UVUS: angcallla"
   ]
  },
  {
   "cell_type": "markdown",
   "metadata": {},
   "source": [
    "### 10.1 Aumento del tamaño de capas\n",
    "Vamos a ampliar el número de unidades de las capas ocultas. Anteriormente, vimos que con 2 capas de 64 unidades el rendimiento obtenido era de ~77%. Vamos a duplicar el número de unidades para hacer la red más compleja, a ver si podemos obtener mejores resultados."
   ]
  },
  {
   "cell_type": "code",
   "execution_count": 36,
   "metadata": {
    "scrolled": true
   },
   "outputs": [
    {
     "name": "stdout",
     "output_type": "stream",
     "text": [
      "Epoch 1/8\n",
      "63/63 [==============================] - 1s 8ms/step - loss: 2.1302 - accuracy: 0.5723 - val_loss: 1.0889 - val_accuracy: 0.7460\n",
      "Epoch 2/8\n",
      "63/63 [==============================] - 0s 5ms/step - loss: 0.8026 - accuracy: 0.8212 - val_loss: 0.8733 - val_accuracy: 0.8120\n",
      "Epoch 3/8\n",
      "63/63 [==============================] - 0s 5ms/step - loss: 0.4540 - accuracy: 0.9002 - val_loss: 0.8328 - val_accuracy: 0.8180\n",
      "Epoch 4/8\n",
      "63/63 [==============================] - 0s 5ms/step - loss: 0.2744 - accuracy: 0.9386 - val_loss: 0.8466 - val_accuracy: 0.8240\n",
      "Epoch 5/8\n",
      "63/63 [==============================] - 0s 5ms/step - loss: 0.2134 - accuracy: 0.9459 - val_loss: 0.8844 - val_accuracy: 0.8190\n",
      "Epoch 6/8\n",
      "63/63 [==============================] - 0s 5ms/step - loss: 0.1628 - accuracy: 0.9570 - val_loss: 0.9005 - val_accuracy: 0.8270\n",
      "Epoch 7/8\n",
      "63/63 [==============================] - 0s 5ms/step - loss: 0.1518 - accuracy: 0.9563 - val_loss: 1.0670 - val_accuracy: 0.7990\n",
      "Epoch 8/8\n",
      "63/63 [==============================] - 0s 5ms/step - loss: 0.1349 - accuracy: 0.9558 - val_loss: 1.0509 - val_accuracy: 0.8070\n",
      "71/71 [==============================] - 0s 2ms/step - loss: 1.2101 - accuracy: 0.7845\n"
     ]
    }
   ],
   "source": [
    "red4 = models.Sequential()\n",
    "red4.add(layers.Dense(128, activation='relu', input_shape=(10000,)))\n",
    "red4.add(layers.Dense(128, activation='relu'))\n",
    "red4.add(layers.Dense(46, activation='softmax'))\n",
    "\n",
    "red4.compile(optimizer='rmsprop',\n",
    "              loss='categorical_crossentropy',\n",
    "              metrics=['accuracy'])\n",
    "red4.fit(partial_x_train,\n",
    "          partial_y_train,\n",
    "          epochs=8,\n",
    "          batch_size=128,\n",
    "          validation_data=(x_val, y_val))\n",
    "results = red4.evaluate(x_test, one_hot_test_labels)"
   ]
  },
  {
   "cell_type": "code",
   "execution_count": 37,
   "metadata": {},
   "outputs": [
    {
     "data": {
      "text/plain": [
       "[1.2101134061813354, 0.7845057845115662]"
      ]
     },
     "execution_count": 37,
     "metadata": {},
     "output_type": "execute_result"
    }
   ],
   "source": [
    "results"
   ]
  },
  {
   "cell_type": "markdown",
   "metadata": {},
   "source": [
    "Los resultados mejoran en el conjunto de entrenamiento con un *accuracy* del 95%, pero en el conjunto de test el resultado no varía."
   ]
  },
  {
   "cell_type": "markdown",
   "metadata": {},
   "source": [
    "### 10.2 Uso de más capas ocultas\n",
    "Vamos a añadir una tercera capa de 64 unidades junto con las 2 que ya tenía la estructura original."
   ]
  },
  {
   "cell_type": "code",
   "execution_count": 40,
   "metadata": {},
   "outputs": [
    {
     "name": "stdout",
     "output_type": "stream",
     "text": [
      "Epoch 1/10\n",
      "63/63 [==============================] - 1s 8ms/step - loss: 2.4990 - accuracy: 0.4996 - val_loss: 1.3015 - val_accuracy: 0.6950\n",
      "Epoch 2/10\n",
      "63/63 [==============================] - 0s 5ms/step - loss: 1.0842 - accuracy: 0.7578 - val_loss: 1.0565 - val_accuracy: 0.7500\n",
      "Epoch 3/10\n",
      "63/63 [==============================] - 0s 5ms/step - loss: 0.7353 - accuracy: 0.8285 - val_loss: 0.9766 - val_accuracy: 0.7820\n",
      "Epoch 4/10\n",
      "63/63 [==============================] - 0s 5ms/step - loss: 0.4850 - accuracy: 0.8877 - val_loss: 1.0012 - val_accuracy: 0.7780\n",
      "Epoch 5/10\n",
      "63/63 [==============================] - 0s 5ms/step - loss: 0.3592 - accuracy: 0.9195 - val_loss: 0.9764 - val_accuracy: 0.8070\n",
      "Epoch 6/10\n",
      "63/63 [==============================] - 0s 5ms/step - loss: 0.2526 - accuracy: 0.9433 - val_loss: 1.0706 - val_accuracy: 0.7850\n",
      "Epoch 7/10\n",
      "63/63 [==============================] - 0s 5ms/step - loss: 0.2060 - accuracy: 0.9479 - val_loss: 1.0889 - val_accuracy: 0.7840\n",
      "Epoch 8/10\n",
      "63/63 [==============================] - 0s 5ms/step - loss: 0.1767 - accuracy: 0.9557 - val_loss: 1.1322 - val_accuracy: 0.7780\n",
      "Epoch 9/10\n",
      "63/63 [==============================] - 0s 5ms/step - loss: 0.1414 - accuracy: 0.9613 - val_loss: 1.0400 - val_accuracy: 0.8100\n",
      "Epoch 10/10\n",
      "63/63 [==============================] - 0s 5ms/step - loss: 0.1383 - accuracy: 0.9578 - val_loss: 1.1337 - val_accuracy: 0.7980\n",
      "71/71 [==============================] - 0s 2ms/step - loss: 1.4046 - accuracy: 0.7680\n"
     ]
    }
   ],
   "source": [
    "red5 = models.Sequential()\n",
    "red5.add(layers.Dense(64, activation='relu', input_shape=(10000,)))\n",
    "red5.add(layers.Dense(64, activation='relu', input_shape=(64,)))\n",
    "red5.add(layers.Dense(64, activation='relu', input_shape=(64,)))\n",
    "red5.add(layers.Dense(46, activation='softmax'))\n",
    "\n",
    "red5.compile(optimizer='rmsprop',\n",
    "              loss='categorical_crossentropy',\n",
    "              metrics=['accuracy'])\n",
    "red5.fit(partial_x_train,\n",
    "          partial_y_train,\n",
    "          epochs=10,\n",
    "          batch_size=128,\n",
    "          validation_data=(x_val, y_val))\n",
    "results = red5.evaluate(x_test, one_hot_test_labels)"
   ]
  },
  {
   "cell_type": "code",
   "execution_count": 41,
   "metadata": {},
   "outputs": [
    {
     "data": {
      "text/plain": [
       "[1.4045614004135132, 0.7680320739746094]"
      ]
     },
     "execution_count": 41,
     "metadata": {},
     "output_type": "execute_result"
    }
   ],
   "source": [
    "results"
   ]
  },
  {
   "cell_type": "markdown",
   "metadata": {},
   "source": [
    "Los resultados son ahora un 2% más bajos en el conjunto de test"
   ]
  },
  {
   "cell_type": "markdown",
   "metadata": {},
   "source": [
    "### 10.3 Cambio en la medida de rendimiento a categorical_accuracy\n",
    "\n",
    "Sobre la estructura de red de la práctica, cambiamos la medida de rendimiento con el fin de observar alguna diferencia."
   ]
  },
  {
   "cell_type": "code",
   "execution_count": 45,
   "metadata": {},
   "outputs": [
    {
     "name": "stdout",
     "output_type": "stream",
     "text": [
      "Epoch 1/8\n",
      "63/63 [==============================] - 1s 6ms/step - loss: 2.3962 - categorical_accuracy: 0.5448 - val_loss: 1.2285 - val_categorical_accuracy: 0.7110\n",
      "Epoch 2/8\n",
      "63/63 [==============================] - 0s 4ms/step - loss: 0.9948 - categorical_accuracy: 0.7822 - val_loss: 0.9811 - val_categorical_accuracy: 0.7900\n",
      "Epoch 3/8\n",
      "63/63 [==============================] - 0s 4ms/step - loss: 0.6602 - categorical_accuracy: 0.8569 - val_loss: 0.9189 - val_categorical_accuracy: 0.8040\n",
      "Epoch 4/8\n",
      "63/63 [==============================] - 0s 4ms/step - loss: 0.4717 - categorical_accuracy: 0.9040 - val_loss: 0.8948 - val_categorical_accuracy: 0.8170\n",
      "Epoch 5/8\n",
      "63/63 [==============================] - 0s 4ms/step - loss: 0.3097 - categorical_accuracy: 0.9362 - val_loss: 0.8697 - val_categorical_accuracy: 0.8330\n",
      "Epoch 6/8\n",
      "63/63 [==============================] - 0s 4ms/step - loss: 0.2269 - categorical_accuracy: 0.9479 - val_loss: 0.8975 - val_categorical_accuracy: 0.8240\n",
      "Epoch 7/8\n",
      "63/63 [==============================] - 0s 4ms/step - loss: 0.1893 - categorical_accuracy: 0.9543 - val_loss: 0.9241 - val_categorical_accuracy: 0.8250\n",
      "Epoch 8/8\n",
      "63/63 [==============================] - 0s 4ms/step - loss: 0.1609 - categorical_accuracy: 0.9583 - val_loss: 1.0021 - val_categorical_accuracy: 0.8060\n",
      "71/71 [==============================] - 0s 2ms/step - loss: 1.1627 - categorical_accuracy: 0.7854\n"
     ]
    }
   ],
   "source": [
    "red6 = models.Sequential()\n",
    "red6.add(layers.Dense(64, activation='relu', input_shape=(10000,)))\n",
    "red6.add(layers.Dense(64, activation='relu', input_shape=(64,)))\n",
    "red6.add(layers.Dense(46, activation='softmax'))\n",
    "\n",
    "red6.compile(optimizer='rmsprop',\n",
    "              loss='categorical_crossentropy',\n",
    "              metrics=['categorical_accuracy'])\n",
    "red6.fit(partial_x_train,\n",
    "          partial_y_train,\n",
    "          epochs=8,\n",
    "          batch_size=128,\n",
    "          validation_data=(x_val, y_val))\n",
    "results = red6.evaluate(x_test, one_hot_test_labels)"
   ]
  },
  {
   "cell_type": "code",
   "execution_count": 43,
   "metadata": {},
   "outputs": [
    {
     "data": {
      "text/plain": [
       "[1.13971745967865, 0.7916295528411865]"
      ]
     },
     "execution_count": 43,
     "metadata": {},
     "output_type": "execute_result"
    }
   ],
   "source": [
    "results"
   ]
  },
  {
   "cell_type": "markdown",
   "metadata": {},
   "source": [
    "Como podemos observar, la medida con *categorical_accuracy* nos da un valor del rendimiento sobre el conjunto de test del 79%, el más alto hasta ahora"
   ]
  },
  {
   "cell_type": "markdown",
   "metadata": {},
   "source": [
    "### 10.4 Uso del optimizador Adam"
   ]
  },
  {
   "cell_type": "markdown",
   "metadata": {},
   "source": [
    "Veamos como actúa el optimizador Adam en la estructura de la red."
   ]
  },
  {
   "cell_type": "code",
   "execution_count": 53,
   "metadata": {},
   "outputs": [
    {
     "name": "stdout",
     "output_type": "stream",
     "text": [
      "Epoch 1/20\n",
      "63/63 [==============================] - 1s 6ms/step - loss: 2.9541 - accuracy: 0.4398 - val_loss: 1.3540 - val_accuracy: 0.7140\n",
      "Epoch 2/20\n",
      "63/63 [==============================] - 0s 4ms/step - loss: 1.1490 - accuracy: 0.7482 - val_loss: 1.0635 - val_accuracy: 0.7710\n",
      "Epoch 3/20\n",
      "63/63 [==============================] - 0s 4ms/step - loss: 0.7130 - accuracy: 0.8451 - val_loss: 0.9247 - val_accuracy: 0.8100\n",
      "Epoch 4/20\n",
      "63/63 [==============================] - 0s 4ms/step - loss: 0.4465 - accuracy: 0.9080 - val_loss: 0.8615 - val_accuracy: 0.8190\n",
      "Epoch 5/20\n",
      "63/63 [==============================] - 0s 4ms/step - loss: 0.2861 - accuracy: 0.9377 - val_loss: 0.8898 - val_accuracy: 0.8230\n",
      "Epoch 6/20\n",
      "63/63 [==============================] - 0s 4ms/step - loss: 0.2311 - accuracy: 0.9461 - val_loss: 0.8756 - val_accuracy: 0.8160\n",
      "Epoch 7/20\n",
      "63/63 [==============================] - 0s 4ms/step - loss: 0.1734 - accuracy: 0.9561 - val_loss: 0.9199 - val_accuracy: 0.8160\n",
      "Epoch 8/20\n",
      "63/63 [==============================] - 0s 4ms/step - loss: 0.1407 - accuracy: 0.9626 - val_loss: 0.8937 - val_accuracy: 0.8240\n",
      "Epoch 9/20\n",
      "63/63 [==============================] - 0s 4ms/step - loss: 0.1318 - accuracy: 0.9605 - val_loss: 0.9409 - val_accuracy: 0.8140\n",
      "Epoch 10/20\n",
      "63/63 [==============================] - 0s 4ms/step - loss: 0.1195 - accuracy: 0.9624 - val_loss: 0.9713 - val_accuracy: 0.8040\n",
      "Epoch 11/20\n",
      "63/63 [==============================] - 0s 4ms/step - loss: 0.1104 - accuracy: 0.9638 - val_loss: 1.0014 - val_accuracy: 0.8020\n",
      "Epoch 12/20\n",
      "63/63 [==============================] - 0s 4ms/step - loss: 0.1158 - accuracy: 0.9611 - val_loss: 1.0195 - val_accuracy: 0.8090\n",
      "Epoch 13/20\n",
      "63/63 [==============================] - 0s 4ms/step - loss: 0.1074 - accuracy: 0.9636 - val_loss: 0.9885 - val_accuracy: 0.8220\n",
      "Epoch 14/20\n",
      "63/63 [==============================] - 0s 4ms/step - loss: 0.0970 - accuracy: 0.9640 - val_loss: 0.9493 - val_accuracy: 0.8150\n",
      "Epoch 15/20\n",
      "63/63 [==============================] - 0s 4ms/step - loss: 0.0950 - accuracy: 0.9678 - val_loss: 0.9896 - val_accuracy: 0.8160\n",
      "Epoch 16/20\n",
      "63/63 [==============================] - 0s 4ms/step - loss: 0.0936 - accuracy: 0.9631 - val_loss: 0.9675 - val_accuracy: 0.8050\n",
      "Epoch 17/20\n",
      "63/63 [==============================] - 0s 4ms/step - loss: 0.1047 - accuracy: 0.9602 - val_loss: 0.9713 - val_accuracy: 0.8070\n",
      "Epoch 18/20\n",
      "63/63 [==============================] - 0s 4ms/step - loss: 0.0870 - accuracy: 0.9641 - val_loss: 1.0157 - val_accuracy: 0.8140\n",
      "Epoch 19/20\n",
      "63/63 [==============================] - 0s 4ms/step - loss: 0.0917 - accuracy: 0.9618 - val_loss: 0.9847 - val_accuracy: 0.8180\n",
      "Epoch 20/20\n",
      "63/63 [==============================] - 0s 4ms/step - loss: 0.0824 - accuracy: 0.9646 - val_loss: 1.0214 - val_accuracy: 0.8070\n",
      "71/71 [==============================] - 0s 2ms/step - loss: 1.1826 - accuracy: 0.7947\n"
     ]
    }
   ],
   "source": [
    "red7 = models.Sequential()\n",
    "red7.add(layers.Dense(64, activation='relu', input_shape=(10000,)))\n",
    "red7.add(layers.Dense(64, activation='relu', input_shape=(64,)))\n",
    "red7.add(layers.Dense(46, activation='softmax'))\n",
    "\n",
    "red7.compile(optimizer='adam',\n",
    "              loss='categorical_crossentropy',\n",
    "              metrics=['accuracy'])\n",
    "entrenamiento2 = red7.fit(partial_x_train,\n",
    "                  partial_y_train,\n",
    "                  epochs=20,\n",
    "                  batch_size=128,\n",
    "                  validation_data=(x_val, y_val))\n",
    "results = red7.evaluate(x_test, one_hot_test_labels)"
   ]
  },
  {
   "cell_type": "code",
   "execution_count": 54,
   "metadata": {},
   "outputs": [
    {
     "data": {
      "image/png": "[encoded data removed]",
      "text/plain": [
       "<Figure size 432x288 with 1 Axes>"
      ]
     },
     "metadata": {
      "needs_background": "light"
     },
     "output_type": "display_data"
    }
   ],
   "source": [
    "ent_loss = entrenamiento2.history['loss']\n",
    "val_loss = entrenamiento2.history['val_loss']\n",
    "\n",
    "epochs = range(1, len(ent_loss) + 1)\n",
    "\n",
    "plt.plot(epochs, ent_loss, 'bo', label='Entrenamiento')\n",
    "plt.plot(epochs, val_loss, 'b', label='Validación')\n",
    "plt.title('Pérdida en Entrenamiento y Validación')\n",
    "plt.xlabel('Epochs')\n",
    "plt.ylabel('Pérdida')\n",
    "plt.legend()\n",
    "\n",
    "plt.show()"
   ]
  },
  {
   "cell_type": "markdown",
   "metadata": {},
   "source": [
    "Como podemos observar, a medida que avanzamos en los epochs, el valor de la función de pérdida sobre el conjunto de validación tiende a subir. Por tanto, podemos decir que a partir del epoch 4, la red comienza a sobreajustarse."
   ]
  },
  {
   "cell_type": "code",
   "execution_count": 55,
   "metadata": {},
   "outputs": [
    {
     "data": {
      "image/png": "[encoded data removed]",
      "text/plain": [
       "<Figure size 432x288 with 1 Axes>"
      ]
     },
     "metadata": {
      "needs_background": "light"
     },
     "output_type": "display_data"
    }
   ],
   "source": [
    "plt.clf()   # limpia la figura\n",
    "\n",
    "ent_acc = entrenamiento2.history['accuracy']\n",
    "val_acc = entrenamiento2.history['val_accuracy']\n",
    "\n",
    "plt.plot(epochs, ent_acc, 'bo', label='Entrenamiento')\n",
    "plt.plot(epochs, val_acc, 'b', label='Validación')\n",
    "plt.title('Accuracy en Entrenamiento y Validación')\n",
    "plt.xlabel('Epochs')\n",
    "plt.ylabel('Accuracy')\n",
    "plt.legend()\n",
    "\n",
    "plt.show()"
   ]
  },
  {
   "cell_type": "markdown",
   "metadata": {},
   "source": [
    "Aquí observamos que la precisión sobre el conjunto de validación va aumentando hasta el cuarto epoch y posteriormente presenta variaciones, pero manteniendose en un valor de precisión constante de entre 75%-85%."
   ]
  },
  {
   "cell_type": "markdown",
   "metadata": {},
   "source": [
    "### 10.5 Conclusiones\n",
    "\n",
    "A pesar de haber modificado distintos aspectos de la estructura de la red, no hemos obtenido mejores resultados que los de la práctica. Tan solo hemos visto una mejora cuando hemos cambiado la métrica de rendimiento.\n",
    "\n",
    "Por otro lado, en las gráficas obtenidas, podemos ver que con el optimizador adam, las variaciones de rendimiento y pérdida son más suaves a medida que avanzan los epochs. Además, comete mayores variaciones que con rmsprop."
   ]
  },
  {
   "cell_type": "code",
   "execution_count": null,
   "metadata": {},
   "outputs": [],
   "source": []
  }
 ],
 "metadata": {
  "colab": {
   "name": "Practica3.5. Keras: clasificacion multiclase.ipynb",
   "provenance": [],
   "toc_visible": true
  },
  "kernelspec": {
   "display_name": "Python 3",
   "language": "python",
   "name": "python3"
  },
  "language_info": {
   "codemirror_mode": {
    "name": "ipython",
    "version": 3
   },
   "file_extension": ".py",
   "mimetype": "text/x-python",
   "name": "python",
   "nbconvert_exporter": "python",
   "pygments_lexer": "ipython3",
   "version": "3.8.5"
  }
 },
 "nbformat": 4,
 "nbformat_minor": 1
}
