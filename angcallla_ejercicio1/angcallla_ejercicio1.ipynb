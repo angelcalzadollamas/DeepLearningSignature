{
 "cells": [
  {
   "cell_type": "markdown",
   "id": "1804cb7c",
   "metadata": {},
   "source": [
    "# Ejercicio 1. Red Neuronal en Keras y ScikitLearn\n",
    "\n",
    "**Autor:** Ángel Manuel Calzado Llamas  \n",
    "**UVUS:** angcallla\n",
    "\n",
    "## Importaciones necesarias"
   ]
  },
  {
   "cell_type": "code",
   "execution_count": 1,
   "id": "07b4417a",
   "metadata": {},
   "outputs": [],
   "source": [
    "# Importamos los paquetes necesarios\n",
    "import numpy as np\n",
    "import pandas as pd\n",
    "from sklearn.model_selection import train_test_split\n",
    "\n",
    "import tensorflow as tf\n",
    "from tensorflow import keras\n",
    "from keras.models import Sequential\n",
    "from keras.layers.core import Dense, Activation"
   ]
  },
  {
   "cell_type": "markdown",
   "id": "ce2ee9f7",
   "metadata": {},
   "source": [
    "## 1. Dataset: Descripción y carga\n",
    "### Información general\n",
    "\n",
    "El objetivo de este ejercicio es la creación de redes neurales artificiales que se ajusten a los datos que se nos proporcionan. \n",
    "\n",
    "**Título del Dataset**: Pima Indians Diabetes Database  \n",
    "**Descripción**: Diagnóstico de diabetes en Indios Pima, en base a sus datos personales (edad, núm. de embarazos, ...)  \n",
    "**Fuentes**:\n",
    "- (a) Original owners: National Institute of Diabetes and Digestive and\n",
    "                        Kidney Diseases\n",
    "- (b) Donor of database: Vincent Sigillito (vgs@aplcen.apl.jhu.edu)\n",
    "                          Research Center, RMI Group Leader\n",
    "                          Applied Physics Laboratory\n",
    "                          The Johns Hopkins University\n",
    "                          Johns Hopkins Road\n",
    "                          Laurel, MD 20707\n",
    "                          (301) 953-6231\n",
    "- (c) Date received: 9 May 1990  \n",
    "\n",
    "**Objetivo**: Creación de redes neurales que decidan si un Indio Pima es diabético o no\n",
    "\n",
    "### Estructura de los datos\n",
    "\n",
    "Vamos a explicar ahora el tipo de características que contiene cada instancia, es decir, cada persona. Lo primero que debemos saber es que, al momento de trabajar con estos datos, ya se ha realizado un tratamiento de datos ausentes y se han **normalizado**, lo cual es importante de cara al entrenamiento de la red para que no de más importancia a unas características que a otras.\n",
    "\n",
    "No obstante, se nos comenta que en el dataset existen algunos valores **muy cercanos a 0**, que podrían considerarse como **valores ausentes**. La documentación explica que se han tratado como si fueran valores reales, que añaden algo de **error o ruido** a los datos. Nosotros los dejaremos incluídos para estudiar como trabajan nuestros modelos que estas casuísticas.\n",
    "\n",
    "Las características de las instancias (previamente normalizadas) son:\n",
    "\n",
    "0. `Número de embarazos`: continuo (con 34 casos mayores a 10)\n",
    "1. `Concentración de glucosa`: continuo (5 casos de valor 0, indicando valor ausente o erróneo, lo dejamos como ya dijimos)\n",
    "2. `Presión sanguínea diástole (mm Hg)`: continuo (35 casos con valor 0, valor posterior más alto de 24)\n",
    "3. `Grosor del pliegue cutáneo del tríceps (mm)`: continuo (227 casos con valor 0, valor posterior más alto de 7)\n",
    "4. `Insulina sérica de 2 horas (mu U/ml)`: continuo (347 casos con valor 0, valor posterior más alto de 14)\n",
    "5. `Índice de masa corporal (peso in kg/(altura in m)^2)`: continuo (11 casos con valor 0, valor posterior más alto de 18)\n",
    "6. `Función de pedigrí de la diabetes`: continuo\n",
    "7. `Edad (años)`: continuo\n",
    "8. `Variable de clasificación`: En dos columnas *diabetes* y *no_diabetes*, siendo 1 en aquella columna en la que se corresponda la instancia\n",
    "\n",
    "Distribución de las clases:  \n",
    "   0:     65%    500  no diabetes  \n",
    "   1:     35%    268  diabetes  \n",
    "total:         768  \n",
    "\n",
    "### Carga de los datos\n",
    "\n",
    "Los datos se encuentran en el dichero adjunto *diabetes.csv*. Para leer el fichero, utilizaremos la libería de `pandas`, concretamente su función `read_csv` indicándole la ruta del fichero."
   ]
  },
  {
   "cell_type": "code",
   "execution_count": 2,
   "id": "769007eb",
   "metadata": {},
   "outputs": [],
   "source": [
    "# Lectura del dataset\n",
    "data = pd.read_csv(\"diabetes.csv\")"
   ]
  },
  {
   "cell_type": "markdown",
   "id": "397058e2",
   "metadata": {},
   "source": [
    "A continuación, dividimos las columnas de nuestros datos entre características y valor de clasificación, creando un array 2D `X` que guarda las características 0-8 y un array 1D con el valor de clasificación de cada instancia (siendo 1 diabetes y 0 no diabetes).\n",
    "\n",
    "Para ello utilizamos la librería `numpy` especificando la creación de dos nuevos arrays con `array` indicando los dos nuevos arrays que queremos crear. Utilizamos la función `iloc` para especificar las columnas que queremos seleccionar en `X` e `Y`."
   ]
  },
  {
   "cell_type": "code",
   "execution_count": 3,
   "id": "fdb27012",
   "metadata": {},
   "outputs": [],
   "source": [
    "# División entre características y valor de clasificación\n",
    "X, Y = np.array(data.iloc[:,0:8]), np.array(data.iloc[:,9])"
   ]
  },
  {
   "cell_type": "markdown",
   "id": "a8b87392",
   "metadata": {},
   "source": [
    "Como recordará, explicamos que el valor de clasificación realmente se componía de dos columnas: *diabetes* y *no_diabetes*. Con motivo de no almacenar características redundantes, sabemos que si en la columna *diabetes* una instancia es 1, significa diabetes y si es 0, significa que en la columna *no_diabetes* es 1, y que por tanto significa no diabetes.\n",
    "\n",
    "Vamos a mostrar la forma de nuestros Arrays para comprobar que hemos hecho bien los tratamientos hasta ahora. Utilizamos la función `shape` para conocer la \"forma\" de `X` e `Y`"
   ]
  },
  {
   "cell_type": "code",
   "execution_count": 4,
   "id": "aa13abe0",
   "metadata": {},
   "outputs": [
    {
     "name": "stdout",
     "output_type": "stream",
     "text": [
      "Forma X:  (768, 8)\n",
      "Forma Y:  (768,)\n"
     ]
    }
   ],
   "source": [
    "# Forma de X e Y\n",
    "print(\"Forma X: \", X.shape)\n",
    "print(\"Forma Y: \", Y.shape)"
   ]
  },
  {
   "cell_type": "markdown",
   "id": "1eb30cb7",
   "metadata": {},
   "source": [
    "Efectivamente, hemos almacenado en `X`las 8 características de los datos y en `Y` el valor de clasificación. Mostramos un ejemplo de ambos antes de pasar al siguiente apartado"
   ]
  },
  {
   "cell_type": "code",
   "execution_count": 5,
   "id": "e47adac4",
   "metadata": {},
   "outputs": [
    {
     "name": "stdout",
     "output_type": "stream",
     "text": [
      "[[0.176471  0.605     0.42623   0.        0.        0.536513  0.0209223\n",
      "  0.0666667]\n",
      " [0.352941  0.72      0.590164  0.27      0.269504  0.505216  0.0755764\n",
      "  0.316667 ]\n",
      " [0.117647  0.875     0.721311  0.        0.        0.341282  0.105892\n",
      "  0.0166667]\n",
      " [0.705882  0.605     0.639344  0.17      0.        0.394933  0.0772844\n",
      "  0.683333 ]\n",
      " [0.117647  0.535     0.606557  0.3       0.118203  0.500745  0.139197\n",
      "  0.0333333]\n",
      " [0.882353  0.68      0.57377   0.32      0.130024  0.552906  0.0320239\n",
      "  0.366667 ]\n",
      " [0.470588  0.545     0.622951  0.39      0.134752  0.415797  0.239966\n",
      "  0.166667 ]\n",
      " [0.117647  0.405     0.491803  0.22      0.        0.412817  0.0905209\n",
      "  0.0666667]\n",
      " [0.235294  0.985     0.57377   0.39      0.879433  0.546945  0.961144\n",
      "  0.166667 ]\n",
      " [0.        0.525     0.737705  0.        0.        0.441133  0.0508113\n",
      "  0.416667 ]]\n"
     ]
    }
   ],
   "source": [
    "print(X[0:10])"
   ]
  },
  {
   "cell_type": "code",
   "execution_count": 6,
   "id": "fddf6366",
   "metadata": {},
   "outputs": [
    {
     "name": "stdout",
     "output_type": "stream",
     "text": [
      "[0 1 1 1 1 0 0 1 1 1]\n"
     ]
    }
   ],
   "source": [
    "print(Y[0:10])"
   ]
  },
  {
   "cell_type": "markdown",
   "id": "c3cdb552",
   "metadata": {},
   "source": [
    "## 2. Preparación de los datos para ser usados en tensorflow\n",
    "\n",
    "Como explicamos en el apartado anterior, los atributos de los datos son todos continuos y se encuentran normalizados, por lo que es un preprocesamiento que nos ahorramos. Por otro lado, podemos afirmar que todos ellos son **informativos, discriminativos y no redundantes** por lo que no sería necesario eliminar ninguna columna.\n",
    "\n",
    "No obstante, existen algunos valores que son 0 en algunos atributos, pero los tenemos controlados, sabiendo cuantos de ellos son para cada columna. Merece la pena dejarlos, para observar lo bien que puede funcionar nuestro modelo con la existencia de ruido.\n",
    "\n",
    "Dicho esto, no sería necesario ningún tipo de preprocesamiento sobre los atributos. Pasamos entonces a dividir el conjunto total de datos entre **entrenamiento y prueba**. No vamos a considerar un conjunto de validación porque pretendemos crear distintos modelos y evaluarlos por separado, es decir, no estamos en busca de un único modelo del que queramos optimizar sus hiperparámetros.\n",
    "\n",
    "Las proporciones escogidas para la división de los datos será de **80%-20%** debido a que apenas hay instancias en los datos y necesitamos un número razonable de estos para que el modelo pueda generalizar bien el problema. Además, esta división será **estratificada**, es decir, que existirá el mismo porcentaje de diabéticos que de no diabéticos tanto en el conjunto de entrenamiento como en el de test. Esto ayudará a evitar aprendizajes no acordes a la realidad de los datos.\n",
    "\n",
    "Dividimos, entonces, los datos en entrenamiento y prueba. Utilizamos el parámetro `stratify` de la función para estratificar los datos en base a los valores de `Y`:"
   ]
  },
  {
   "cell_type": "code",
   "execution_count": 7,
   "id": "a130ae2d",
   "metadata": {},
   "outputs": [],
   "source": [
    "# Dividimos los datos en entrenamiento y prueba\n",
    "train_X, test_X, train_y, test_y = train_test_split(X, Y, train_size=0.8, test_size=0.2, stratify=Y, random_state=0)"
   ]
  },
  {
   "cell_type": "markdown",
   "id": "f1eb3875",
   "metadata": {},
   "source": [
    "Confirmemos si las proporciones son semejantes"
   ]
  },
  {
   "cell_type": "code",
   "execution_count": 8,
   "id": "4d4b588b",
   "metadata": {},
   "outputs": [
    {
     "name": "stdout",
     "output_type": "stream",
     "text": [
      "Proporción de diabéticos en entrenamiento: 0.6514657980456026\n",
      "Proporción de diabéticos en prueba: 0.6493506493506493\n"
     ]
    }
   ],
   "source": [
    "print(\"Proporción de diabéticos en entrenamiento:\", \n",
    "      train_y[train_y==1].shape[0]/train_y.shape[0])\n",
    "print(\"Proporción de diabéticos en prueba:\", \n",
    "      test_y[test_y==1].shape[0]/test_y.shape[0])"
   ]
  },
  {
   "cell_type": "markdown",
   "id": "83698a16",
   "metadata": {},
   "source": [
    "Lo son.\n",
    "\n"
   ]
  },
  {
   "cell_type": "markdown",
   "id": "899f3ba3",
   "metadata": {},
   "source": [
    "## 3. Modelos creados"
   ]
  },
  {
   "cell_type": "markdown",
   "id": "ea68c3d0",
   "metadata": {},
   "source": [
    "En los siguientes subapartados definimos cada uno de los modelos que van a ser implementados, así como su implementación. Indicaremos para cada modelo, cuales son sus **aspectos**.\n",
    "\n",
    "Algo que vamos a ir adelantando ya y que será **igual** en todos los modelos es el número de nodos de la **capa de salida** y su función de activación. Al ser este un problema de **clasificación binaria** (1 - diabetes, 0 - no diabetes), la capa de salida tendrá **un solo nodo** con función de activación **sigmoide**, cuya salida se interpretará como una **probabilidad** de pertenecer a la clase positiva (diabetes)."
   ]
  },
  {
   "cell_type": "markdown",
   "id": "9a428d00",
   "metadata": {},
   "source": [
    "### 3.1 Primer modelo"
   ]
  },
  {
   "cell_type": "markdown",
   "id": "af1d419c",
   "metadata": {},
   "source": [
    "Los aspectos del modelo son:\n",
    "- `1 capa oculta con 16 nodos`: Similar a la estructura de la práctica 3.2, una capa oculta evitará el sobreajuste al no tener tantos pesos y 16 nodos es un buen valor para la GPU al ser potencia de 2.\n",
    "- `función de activación ReLU`: Al ser el más popular para las capas ocultas y aportar mejor rendimiento en la búsqueda de la convergencia.\n",
    "- `factor de aprendizaje 0.01, 10-50-100 epochs, función de coste de perceptrón`: El factor de aprendizaje ha de ser bajo para evitar las *Dying ReLUs* y usaremos distintos epochs para responder a las preguntas que se nos piden.  \n",
    "\n",
    "    Utilizamos la función de coste del perceptrón al ser este un problema de clasificación binaria. Recordemos que utilizamos aquella función que varía según sea el valor \"y\" esperado 0 o 1, para que la función en cada caso alcance el mínimo en el valor esperado y tienda a infinito cuando más se aleje de él.\n",
    "- `Método de optimización Adam`: El cual es el más recomendado para empezar."
   ]
  },
  {
   "cell_type": "markdown",
   "id": "70579573",
   "metadata": {},
   "source": [
    "![diagrama_modelo_1](imgej1/modelo1.png)"
   ]
  },
  {
   "cell_type": "markdown",
   "id": "b2f966e5",
   "metadata": {},
   "source": [
    "Lo implementamos. Comenzamos inicializando el modelo secuencial:"
   ]
  },
  {
   "cell_type": "code",
   "execution_count": 9,
   "id": "b51ea95c",
   "metadata": {},
   "outputs": [],
   "source": [
    "model1_n16_relu = Sequential()"
   ]
  },
  {
   "cell_type": "markdown",
   "id": "61d20c9a",
   "metadata": {},
   "source": [
    "Definimos las 8 variables de entrada y los 16 nodos de la capa oculta con función de activación ReLU:"
   ]
  },
  {
   "cell_type": "code",
   "execution_count": 10,
   "id": "89f02fd4",
   "metadata": {},
   "outputs": [],
   "source": [
    "model1_n16_relu.add(Dense(16, input_shape=(8,)))\n",
    "model1_n16_relu.add(Activation('relu'))"
   ]
  },
  {
   "cell_type": "markdown",
   "id": "0f4f13ff",
   "metadata": {},
   "source": [
    "la capa de salida con un solo nodo con función de activación sigmoide"
   ]
  },
  {
   "cell_type": "code",
   "execution_count": 11,
   "id": "7d650200",
   "metadata": {},
   "outputs": [],
   "source": [
    "model1_n16_relu.add(Dense(1))\n",
    "model1_n16_relu.add(Activation('sigmoid'))"
   ]
  },
  {
   "cell_type": "markdown",
   "id": "7de8107d",
   "metadata": {},
   "source": [
    "Y finalizamos con la definición del optimizador, función de pérdida y evaluador que emplearemos el cual será la medida de precisión del modelo, que calcula el porcentaje de instancia predichas correctamente frente el total"
   ]
  },
  {
   "cell_type": "code",
   "execution_count": 12,
   "id": "4270bc9a",
   "metadata": {},
   "outputs": [],
   "source": [
    "model1_n16_relu.compile(optimizer=keras.optimizers.Adam(learning_rate=0.01), loss='binary_crossentropy', metrics=[\"accuracy\"])"
   ]
  },
  {
   "cell_type": "markdown",
   "id": "1570bf93",
   "metadata": {},
   "source": [
    "En definitiva, el modelo es el siguiente:"
   ]
  },
  {
   "cell_type": "code",
   "execution_count": 13,
   "id": "8702b4f1",
   "metadata": {
    "scrolled": true
   },
   "outputs": [
    {
     "name": "stdout",
     "output_type": "stream",
     "text": [
      "Model: \"sequential\"\n",
      "_________________________________________________________________\n",
      "Layer (type)                 Output Shape              Param #   \n",
      "=================================================================\n",
      "dense (Dense)                (None, 16)                144       \n",
      "_________________________________________________________________\n",
      "activation (Activation)      (None, 16)                0         \n",
      "_________________________________________________________________\n",
      "dense_1 (Dense)              (None, 1)                 17        \n",
      "_________________________________________________________________\n",
      "activation_1 (Activation)    (None, 1)                 0         \n",
      "=================================================================\n",
      "Total params: 161\n",
      "Trainable params: 161\n",
      "Non-trainable params: 0\n",
      "_________________________________________________________________\n"
     ]
    }
   ],
   "source": [
    "model1_n16_relu.summary()"
   ]
  },
  {
   "cell_type": "markdown",
   "id": "d40b5b50",
   "metadata": {},
   "source": [
    "### 3.2 Segundo modelo"
   ]
  },
  {
   "cell_type": "markdown",
   "id": "9a4b64bc",
   "metadata": {},
   "source": [
    "Los aspectos del modelo son:\n",
    "- `2 capa ocultas con 8 nodos`: La adición de más capas implicará mayor ajuste sobre los datos, por si el modelo anterior pudiera quedar infrajustado.\n",
    "- `función de activación Leaky ReLU`: En todas las capas ocultas, con motivo de evitar las *dying ReLU*\n",
    "- `factor de aprendizaje 0.1, 10-50-100 epochs, función de coste de perceptrón`: El factor de aprendizaje es más alto porque ya no habría necesidad de evitar *Dying ReLU* por la naturaleza de la propia función y usaremos distintos epochs para responder a las preguntas que se nos piden.  \n",
    "\n",
    "    Utilizamos la función de coste del perceptrón al ser este un problema de clasificación binaria. Como la naturaleza del problema es la misma, independientemente del modelo, dicha función no varía\n",
    "    \n",
    "- `Método de optimización RMSProp`: Para compararlo con Adam ya que a priori sabemos que aportan resultados similares."
   ]
  },
  {
   "cell_type": "markdown",
   "id": "75c19202",
   "metadata": {},
   "source": [
    "![diagrama_modelo_2](imgej1/modelo2.png)"
   ]
  },
  {
   "cell_type": "markdown",
   "id": "b338d36d",
   "metadata": {},
   "source": [
    "Lo implementamos de la misma forma que el modelo 1"
   ]
  },
  {
   "cell_type": "code",
   "execution_count": 14,
   "id": "9a9cbb80",
   "metadata": {},
   "outputs": [],
   "source": [
    "# instanciamos el modelo\n",
    "model2_n8_leakyRelu = Sequential()"
   ]
  },
  {
   "cell_type": "code",
   "execution_count": 15,
   "id": "b52d5c1a",
   "metadata": {},
   "outputs": [],
   "source": [
    "# añadimos las 2 capas ocultas con 8 nodos cada una y con función de activación Leaky ReLU\n",
    "model2_n8_leakyRelu.add(Dense(8, input_shape=(8,)))\n",
    "model2_n8_leakyRelu.add(Activation(tf.keras.layers.LeakyReLU()))\n",
    "\n",
    "model2_n8_leakyRelu.add(Dense(8, input_shape=(8,)))\n",
    "model2_n8_leakyRelu.add(Activation(tf.keras.layers.LeakyReLU()))"
   ]
  },
  {
   "cell_type": "code",
   "execution_count": 16,
   "id": "968f372d",
   "metadata": {},
   "outputs": [],
   "source": [
    "# añadimos la capa de salida con función de activación sigmoide\n",
    "model2_n8_leakyRelu.add(Dense(1))\n",
    "model2_n8_leakyRelu.add(Activation('sigmoid'))"
   ]
  },
  {
   "cell_type": "code",
   "execution_count": 17,
   "id": "91f3daec",
   "metadata": {},
   "outputs": [],
   "source": [
    "# compilamos indicando el optimizador RMSprop, función de pérdida del perceptrón y accuracy como método de evaluación\n",
    "model2_n8_leakyRelu.compile(optimizer=keras.optimizers.RMSprop(learning_rate=0.01), loss='binary_crossentropy', metrics=[\"accuracy\"])"
   ]
  },
  {
   "cell_type": "code",
   "execution_count": 18,
   "id": "a996f76f",
   "metadata": {},
   "outputs": [
    {
     "name": "stdout",
     "output_type": "stream",
     "text": [
      "Model: \"sequential_1\"\n",
      "_________________________________________________________________\n",
      "Layer (type)                 Output Shape              Param #   \n",
      "=================================================================\n",
      "dense_2 (Dense)              (None, 8)                 72        \n",
      "_________________________________________________________________\n",
      "activation_2 (Activation)    (None, 8)                 0         \n",
      "_________________________________________________________________\n",
      "dense_3 (Dense)              (None, 8)                 72        \n",
      "_________________________________________________________________\n",
      "activation_3 (Activation)    (None, 8)                 0         \n",
      "_________________________________________________________________\n",
      "dense_4 (Dense)              (None, 1)                 9         \n",
      "_________________________________________________________________\n",
      "activation_4 (Activation)    (None, 1)                 0         \n",
      "=================================================================\n",
      "Total params: 153\n",
      "Trainable params: 153\n",
      "Non-trainable params: 0\n",
      "_________________________________________________________________\n"
     ]
    }
   ],
   "source": [
    "# Mostramos el resumen del modelo\n",
    "model2_n8_leakyRelu.summary()"
   ]
  },
  {
   "cell_type": "markdown",
   "id": "2b921b40",
   "metadata": {},
   "source": [
    "### 3.3 Tercer modelo"
   ]
  },
  {
   "cell_type": "markdown",
   "id": "1da6ee70",
   "metadata": {},
   "source": [
    "Los aspectos del modelo son:\n",
    "- `3 capa ocultas con 16, 8 y 4 nodos`: Se tratará de una estructura de red en forma de \"embudo\" de forma que al inicio calculará más características y posteriormente menos.\n",
    "- `función de activación ELU, LReLU y ReLU`: Respectivamente, en cada una de las capas, para ir restringiendo más los valores negativos.\n",
    "- `factor de aprendizaje 1, 10-50-100 epochs, función de coste de perceptrón`: Factor de aprendizaje máximo. Se sabe que cuanto mayor es el ratio de aprendizaje, menos epochs son necesarios.\n",
    "\n",
    "    Utilizamos la función de coste del perceptrón al ser este un problema de clasificación binaria. Como la naturaleza del problema es la misma, independientemente del modelo, dicha función no varía\n",
    "    \n",
    "- `Método de optimización Adadelta`: Último de los más recomendados, con motivo de compararlo con los anteriores."
   ]
  },
  {
   "cell_type": "markdown",
   "id": "7a46602f",
   "metadata": {},
   "source": [
    "![diagrmaa_modelo_3](imgej1/modelo3.png)"
   ]
  },
  {
   "cell_type": "markdown",
   "id": "c3c79c6e",
   "metadata": {},
   "source": [
    "Lo implementamos de la misma forma que con el modelo 2 y 3"
   ]
  },
  {
   "cell_type": "code",
   "execution_count": 19,
   "id": "0ed79868",
   "metadata": {},
   "outputs": [],
   "source": [
    "# instanciamos el modelo\n",
    "model3_embudo = Sequential()"
   ]
  },
  {
   "cell_type": "code",
   "execution_count": 20,
   "id": "44afc76c",
   "metadata": {},
   "outputs": [],
   "source": [
    "# añadimos las 3 capas ocultas con 16,8,4 nodos y con función de activación ELU, Leaky ReLU y ReLU; respectivamente\n",
    "model3_embudo.add(Dense(16, input_shape=(8,)))\n",
    "model3_embudo.add(Activation('elu'))\n",
    "\n",
    "model3_embudo.add(Dense(8, input_shape=(16,)))\n",
    "model3_embudo.add(Activation(tf.keras.layers.LeakyReLU()))\n",
    "\n",
    "model3_embudo.add(Dense(4, input_shape=(8,)))\n",
    "model3_embudo.add(Activation(\"relu\"))"
   ]
  },
  {
   "cell_type": "code",
   "execution_count": 21,
   "id": "24740825",
   "metadata": {},
   "outputs": [],
   "source": [
    "# añadimos la capa de salida con función de activación sigmoide\n",
    "model3_embudo.add(Dense(1))\n",
    "model3_embudo.add(Activation('sigmoid'))"
   ]
  },
  {
   "cell_type": "code",
   "execution_count": 22,
   "id": "cad172d8",
   "metadata": {},
   "outputs": [],
   "source": [
    "# compilamos indicando el optimizador RMSprop, función de pérdida del perceptrón y accuracy como método de evaluación\n",
    "model3_embudo.compile(optimizer=keras.optimizers.Adadelta(learning_rate=1), loss='binary_crossentropy', metrics=[\"accuracy\"])"
   ]
  },
  {
   "cell_type": "markdown",
   "id": "f5999363",
   "metadata": {},
   "source": [
    "## 4. Entrenamiento y evaluación\n",
    "\n",
    "Una vez creados y estructurados los modelos, pasamos a entrenarlos y evaluarlos. Para entrenarlos hacemos uso de la función `fit` pasándole el conjunto de entrenamiento. Por otro lado, para evaluarlo, utilizamos la función `evaluate` tanto para el conjunto de entrenamiento como el de prueba; necesario para conocer si el modelo generaliza adecuadamente el problema.\n",
    "\n",
    "Acerca del número de epochs y el número de batches, elegiremos unas opciones u otras dependiendo del modelo.\n",
    "\n",
    "### 4.1 Modelo 1"
   ]
  },
  {
   "cell_type": "markdown",
   "id": "e87ee405",
   "metadata": {},
   "source": [
    "Al ser este un modelo no muy complejo y no hay muchos datos, haremos un primer entrenamiento con 100 epochs y tamaño de batch 1."
   ]
  },
  {
   "cell_type": "code",
   "execution_count": 23,
   "id": "45c1f81d",
   "metadata": {},
   "outputs": [
    {
     "name": "stdout",
     "output_type": "stream",
     "text": [
      "Epoch 1/100\n",
      "614/614 [==============================] - 2s 2ms/step - loss: 0.6333 - accuracy: 0.6450: 0s - loss: 0.6681 -  - ETA: 0s - loss: 0.6375 - accuracy\n",
      "Epoch 2/100\n",
      "614/614 [==============================] - 1s 2ms/step - loss: 0.5670 - accuracy: 0.7003: \n",
      "Epoch 3/100\n",
      "614/614 [==============================] - 1s 2ms/step - loss: 0.5372 - accuracy: 0.7362\n",
      "Epoch 4/100\n",
      "614/614 [==============================] - 1s 2ms/step - loss: 0.5118 - accuracy: 0.7443\n",
      "Epoch 5/100\n",
      "614/614 [==============================] - 1s 2ms/step - loss: 0.5012 - accuracy: 0.7459\n",
      "Epoch 6/100\n",
      "614/614 [==============================] - 1s 2ms/step - loss: 0.4873 - accuracy: 0.7704\n",
      "Epoch 7/100\n",
      "614/614 [==============================] - 1s 2ms/step - loss: 0.4982 - accuracy: 0.7606\n",
      "Epoch 8/100\n",
      "614/614 [==============================] - 1s 2ms/step - loss: 0.4853 - accuracy: 0.7443\n",
      "Epoch 9/100\n",
      "614/614 [==============================] - 1s 2ms/step - loss: 0.4882 - accuracy: 0.7476\n",
      "Epoch 10/100\n",
      "614/614 [==============================] - 1s 2ms/step - loss: 0.4710 - accuracy: 0.7524\n",
      "Epoch 11/100\n",
      "614/614 [==============================] - 1s 2ms/step - loss: 0.4840 - accuracy: 0.7590\n",
      "Epoch 12/100\n",
      "614/614 [==============================] - 1s 2ms/step - loss: 0.4732 - accuracy: 0.7590\n",
      "Epoch 13/100\n",
      "614/614 [==============================] - 1s 2ms/step - loss: 0.4783 - accuracy: 0.7459\n",
      "Epoch 14/100\n",
      "614/614 [==============================] - 1s 2ms/step - loss: 0.4634 - accuracy: 0.7752\n",
      "Epoch 15/100\n",
      "614/614 [==============================] - 1s 2ms/step - loss: 0.4513 - accuracy: 0.7622\n",
      "Epoch 16/100\n",
      "614/614 [==============================] - 1s 2ms/step - loss: 0.4706 - accuracy: 0.7541\n",
      "Epoch 17/100\n",
      "614/614 [==============================] - 1s 2ms/step - loss: 0.4683 - accuracy: 0.7638\n",
      "Epoch 18/100\n",
      "614/614 [==============================] - 1s 2ms/step - loss: 0.4600 - accuracy: 0.7720\n",
      "Epoch 19/100\n",
      "614/614 [==============================] - 1s 2ms/step - loss: 0.4661 - accuracy: 0.7687\n",
      "Epoch 20/100\n",
      "614/614 [==============================] - 1s 2ms/step - loss: 0.4676 - accuracy: 0.7687\n",
      "Epoch 21/100\n",
      "614/614 [==============================] - 1s 2ms/step - loss: 0.4608 - accuracy: 0.7638\n",
      "Epoch 22/100\n",
      "614/614 [==============================] - 1s 2ms/step - loss: 0.4546 - accuracy: 0.7850\n",
      "Epoch 23/100\n",
      "614/614 [==============================] - 1s 2ms/step - loss: 0.4637 - accuracy: 0.7720\n",
      "Epoch 24/100\n",
      "614/614 [==============================] - 1s 2ms/step - loss: 0.4594 - accuracy: 0.7655\n",
      "Epoch 25/100\n",
      "614/614 [==============================] - 1s 2ms/step - loss: 0.4659 - accuracy: 0.7818\n",
      "Epoch 26/100\n",
      "614/614 [==============================] - 1s 2ms/step - loss: 0.4499 - accuracy: 0.7687\n",
      "Epoch 27/100\n",
      "614/614 [==============================] - 1s 2ms/step - loss: 0.4671 - accuracy: 0.7704\n",
      "Epoch 28/100\n",
      "614/614 [==============================] - 1s 2ms/step - loss: 0.4484 - accuracy: 0.7687\n",
      "Epoch 29/100\n",
      "614/614 [==============================] - 1s 2ms/step - loss: 0.4540 - accuracy: 0.7590\n",
      "Epoch 30/100\n",
      "614/614 [==============================] - 1s 2ms/step - loss: 0.4546 - accuracy: 0.7655\n",
      "Epoch 31/100\n",
      "614/614 [==============================] - 1s 2ms/step - loss: 0.4524 - accuracy: 0.7769\n",
      "Epoch 32/100\n",
      "614/614 [==============================] - 1s 2ms/step - loss: 0.4468 - accuracy: 0.7850\n",
      "Epoch 33/100\n",
      "614/614 [==============================] - 1s 2ms/step - loss: 0.4458 - accuracy: 0.7606\n",
      "Epoch 34/100\n",
      "614/614 [==============================] - 1s 2ms/step - loss: 0.4506 - accuracy: 0.7704\n",
      "Epoch 35/100\n",
      "614/614 [==============================] - 1s 2ms/step - loss: 0.4459 - accuracy: 0.7915\n",
      "Epoch 36/100\n",
      "614/614 [==============================] - 1s 2ms/step - loss: 0.4510 - accuracy: 0.7801\n",
      "Epoch 37/100\n",
      "614/614 [==============================] - 1s 1ms/step - loss: 0.4437 - accuracy: 0.7769\n",
      "Epoch 38/100\n",
      "614/614 [==============================] - 1s 2ms/step - loss: 0.4467 - accuracy: 0.7948\n",
      "Epoch 39/100\n",
      "614/614 [==============================] - 1s 1ms/step - loss: 0.4500 - accuracy: 0.7752\n",
      "Epoch 40/100\n",
      "614/614 [==============================] - 1s 1ms/step - loss: 0.4439 - accuracy: 0.7671\n",
      "Epoch 41/100\n",
      "614/614 [==============================] - 1s 2ms/step - loss: 0.4445 - accuracy: 0.7850\n",
      "Epoch 42/100\n",
      "614/614 [==============================] - 1s 2ms/step - loss: 0.4460 - accuracy: 0.7671\n",
      "Epoch 43/100\n",
      "614/614 [==============================] - 1s 2ms/step - loss: 0.4479 - accuracy: 0.7769\n",
      "Epoch 44/100\n",
      "614/614 [==============================] - 1s 2ms/step - loss: 0.4377 - accuracy: 0.7883\n",
      "Epoch 45/100\n",
      "614/614 [==============================] - 1s 2ms/step - loss: 0.4398 - accuracy: 0.7818\n",
      "Epoch 46/100\n",
      "614/614 [==============================] - 1s 2ms/step - loss: 0.4406 - accuracy: 0.7736\n",
      "Epoch 47/100\n",
      "614/614 [==============================] - 1s 2ms/step - loss: 0.4481 - accuracy: 0.7818\n",
      "Epoch 48/100\n",
      "614/614 [==============================] - 1s 2ms/step - loss: 0.4426 - accuracy: 0.7785\n",
      "Epoch 49/100\n",
      "614/614 [==============================] - 1s 2ms/step - loss: 0.4374 - accuracy: 0.7785\n",
      "Epoch 50/100\n",
      "614/614 [==============================] - 1s 2ms/step - loss: 0.4390 - accuracy: 0.7883\n",
      "Epoch 51/100\n",
      "614/614 [==============================] - 1s 2ms/step - loss: 0.4353 - accuracy: 0.7704\n",
      "Epoch 52/100\n",
      "614/614 [==============================] - 1s 2ms/step - loss: 0.4476 - accuracy: 0.7785\n",
      "Epoch 53/100\n",
      "614/614 [==============================] - 1s 2ms/step - loss: 0.4399 - accuracy: 0.7866\n",
      "Epoch 54/100\n",
      "614/614 [==============================] - 1s 2ms/step - loss: 0.4295 - accuracy: 0.7932\n",
      "Epoch 55/100\n",
      "614/614 [==============================] - 1s 2ms/step - loss: 0.4347 - accuracy: 0.7899: 0s - loss: 0.419 - ETA: 0s - loss: 0.4436 - accuracy - ETA: 0s - loss: 0.4343 - accuracy: 0.79\n",
      "Epoch 56/100\n",
      "614/614 [==============================] - 1s 2ms/step - loss: 0.4251 - accuracy: 0.7752\n",
      "Epoch 57/100\n",
      "614/614 [==============================] - ETA: 0s - loss: 0.4429 - accuracy: 0.79 - 1s 2ms/step - loss: 0.4406 - accuracy: 0.7964\n",
      "Epoch 58/100\n",
      "614/614 [==============================] - 1s 2ms/step - loss: 0.4297 - accuracy: 0.7899\n",
      "Epoch 59/100\n",
      "614/614 [==============================] - 1s 2ms/step - loss: 0.4320 - accuracy: 0.7899\n",
      "Epoch 60/100\n",
      "614/614 [==============================] - 1s 2ms/step - loss: 0.4300 - accuracy: 0.7801\n",
      "Epoch 61/100\n",
      "614/614 [==============================] - 1s 2ms/step - loss: 0.4280 - accuracy: 0.7850\n",
      "Epoch 62/100\n",
      "614/614 [==============================] - 1s 2ms/step - loss: 0.4326 - accuracy: 0.7785\n",
      "Epoch 63/100\n",
      "614/614 [==============================] - 1s 2ms/step - loss: 0.4319 - accuracy: 0.7899\n",
      "Epoch 64/100\n",
      "614/614 [==============================] - 1s 2ms/step - loss: 0.4308 - accuracy: 0.7883\n",
      "Epoch 65/100\n",
      "614/614 [==============================] - 1s 2ms/step - loss: 0.4196 - accuracy: 0.7964\n",
      "Epoch 66/100\n",
      "614/614 [==============================] - 1s 2ms/step - loss: 0.4250 - accuracy: 0.7850\n",
      "Epoch 67/100\n",
      "614/614 [==============================] - 1s 2ms/step - loss: 0.4253 - accuracy: 0.7785\n",
      "Epoch 68/100\n",
      "614/614 [==============================] - 1s 2ms/step - loss: 0.4227 - accuracy: 0.7850\n",
      "Epoch 69/100\n",
      "614/614 [==============================] - 1s 2ms/step - loss: 0.4248 - accuracy: 0.7866\n",
      "Epoch 70/100\n",
      "614/614 [==============================] - 1s 2ms/step - loss: 0.4164 - accuracy: 0.7948\n",
      "Epoch 71/100\n",
      "614/614 [==============================] - 1s 2ms/step - loss: 0.4282 - accuracy: 0.7850\n",
      "Epoch 72/100\n",
      "614/614 [==============================] - 1s 2ms/step - loss: 0.4290 - accuracy: 0.7899\n",
      "Epoch 73/100\n",
      "614/614 [==============================] - 1s 2ms/step - loss: 0.4214 - accuracy: 0.7948\n",
      "Epoch 74/100\n",
      "614/614 [==============================] - 1s 2ms/step - loss: 0.4235 - accuracy: 0.7866\n",
      "Epoch 75/100\n",
      "614/614 [==============================] - 1s 2ms/step - loss: 0.4222 - accuracy: 0.7964\n",
      "Epoch 76/100\n",
      "614/614 [==============================] - 1s 2ms/step - loss: 0.4302 - accuracy: 0.7834\n",
      "Epoch 77/100\n",
      "614/614 [==============================] - 1s 2ms/step - loss: 0.4209 - accuracy: 0.7752\n",
      "Epoch 78/100\n",
      "614/614 [==============================] - 1s 2ms/step - loss: 0.4233 - accuracy: 0.7948\n",
      "Epoch 79/100\n"
     ]
    },
    {
     "name": "stdout",
     "output_type": "stream",
     "text": [
      "614/614 [==============================] - 1s 1ms/step - loss: 0.4226 - accuracy: 0.7997\n",
      "Epoch 80/100\n",
      "614/614 [==============================] - 1s 1ms/step - loss: 0.4219 - accuracy: 0.7899\n",
      "Epoch 81/100\n",
      "614/614 [==============================] - 1s 2ms/step - loss: 0.4199 - accuracy: 0.7752\n",
      "Epoch 82/100\n",
      "614/614 [==============================] - 1s 1ms/step - loss: 0.4159 - accuracy: 0.7801\n",
      "Epoch 83/100\n",
      "614/614 [==============================] - 1s 2ms/step - loss: 0.4182 - accuracy: 0.7932\n",
      "Epoch 84/100\n",
      "614/614 [==============================] - 1s 2ms/step - loss: 0.4288 - accuracy: 0.7932\n",
      "Epoch 85/100\n",
      "614/614 [==============================] - 1s 2ms/step - loss: 0.4205 - accuracy: 0.7997\n",
      "Epoch 86/100\n",
      "614/614 [==============================] - 1s 2ms/step - loss: 0.4168 - accuracy: 0.7997\n",
      "Epoch 87/100\n",
      "614/614 [==============================] - 1s 2ms/step - loss: 0.4233 - accuracy: 0.7850\n",
      "Epoch 88/100\n",
      "614/614 [==============================] - 1s 2ms/step - loss: 0.4187 - accuracy: 0.7964\n",
      "Epoch 89/100\n",
      "614/614 [==============================] - 1s 1ms/step - loss: 0.4264 - accuracy: 0.7736\n",
      "Epoch 90/100\n",
      "614/614 [==============================] - 1s 1ms/step - loss: 0.4154 - accuracy: 0.7899\n",
      "Epoch 91/100\n",
      "614/614 [==============================] - 1s 2ms/step - loss: 0.4197 - accuracy: 0.7883\n",
      "Epoch 92/100\n",
      "614/614 [==============================] - 1s 1ms/step - loss: 0.4244 - accuracy: 0.7671\n",
      "Epoch 93/100\n",
      "614/614 [==============================] - 1s 1ms/step - loss: 0.4235 - accuracy: 0.7834\n",
      "Epoch 94/100\n",
      "614/614 [==============================] - 1s 1ms/step - loss: 0.4113 - accuracy: 0.7932\n",
      "Epoch 95/100\n",
      "614/614 [==============================] - 1s 2ms/step - loss: 0.4154 - accuracy: 0.7850\n",
      "Epoch 96/100\n",
      "614/614 [==============================] - 1s 2ms/step - loss: 0.4198 - accuracy: 0.7948\n",
      "Epoch 97/100\n",
      "614/614 [==============================] - 1s 2ms/step - loss: 0.4417 - accuracy: 0.7785\n",
      "Epoch 98/100\n",
      "614/614 [==============================] - 1s 2ms/step - loss: 0.4204 - accuracy: 0.7932\n",
      "Epoch 99/100\n",
      "614/614 [==============================] - 1s 2ms/step - loss: 0.4156 - accuracy: 0.7834\n",
      "Epoch 100/100\n",
      "614/614 [==============================] - 1s 2ms/step - loss: 0.4163 - accuracy: 0.7899\n"
     ]
    },
    {
     "data": {
      "text/plain": [
       "<keras.callbacks.History at 0x22ce3194f40>"
      ]
     },
     "execution_count": 23,
     "metadata": {},
     "output_type": "execute_result"
    }
   ],
   "source": [
    "# (1) Entrenamos sobre el conjunto de entrenamiento\n",
    "model1_n16_relu.fit(train_X,train_y,epochs=100,batch_size=1)"
   ]
  },
  {
   "cell_type": "markdown",
   "id": "b97be06c",
   "metadata": {},
   "source": [
    "Pasamos a evaluar el modelo"
   ]
  },
  {
   "cell_type": "code",
   "execution_count": 24,
   "id": "45a69e15",
   "metadata": {},
   "outputs": [
    {
     "name": "stdout",
     "output_type": "stream",
     "text": [
      "Coste = 0.40,Accuracy = 0.80\n",
      "Coste = 0.53,Accuracy = 0.75\n"
     ]
    }
   ],
   "source": [
    "# (1) Evaluamos sobre el conjunto de entrenamiento y test\n",
    "loss, accuracy = model1_n16_relu.evaluate(train_X, train_y, verbose=0)\n",
    "print(\"Coste = {:.2f},Accuracy = {:.2f}\".format(loss,accuracy))\n",
    "loss, accuracy = model1_n16_relu.evaluate(test_X, test_y, verbose=0)\n",
    "print(\"Coste = {:.2f},Accuracy = {:.2f}\".format(loss,accuracy))"
   ]
  },
  {
   "cell_type": "markdown",
   "id": "008bdf5d",
   "metadata": {},
   "source": [
    "Dejaremos los comentarios acerca del proceso de entrenamiento para el apartado de \"análisis de los resultados\"."
   ]
  },
  {
   "cell_type": "markdown",
   "id": "174674f1",
   "metadata": {},
   "source": [
    "Probamos también con 10 epochs y el mismo tamaño de batch para comparar"
   ]
  },
  {
   "cell_type": "code",
   "execution_count": 25,
   "id": "e4cd4a4b",
   "metadata": {},
   "outputs": [
    {
     "name": "stdout",
     "output_type": "stream",
     "text": [
      "Epoch 1/10\n",
      "614/614 [==============================] - 1s 2ms/step - loss: 0.4096 - accuracy: 0.7948\n",
      "Epoch 2/10\n",
      "614/614 [==============================] - 1s 2ms/step - loss: 0.4162 - accuracy: 0.7883\n",
      "Epoch 3/10\n",
      "614/614 [==============================] - 1s 2ms/step - loss: 0.4101 - accuracy: 0.7899\n",
      "Epoch 4/10\n",
      "614/614 [==============================] - 1s 2ms/step - loss: 0.4196 - accuracy: 0.7801\n",
      "Epoch 5/10\n",
      "614/614 [==============================] - 1s 2ms/step - loss: 0.4140 - accuracy: 0.7932\n",
      "Epoch 6/10\n",
      "614/614 [==============================] - 1s 2ms/step - loss: 0.4160 - accuracy: 0.7883\n",
      "Epoch 7/10\n",
      "614/614 [==============================] - 1s 2ms/step - loss: 0.4190 - accuracy: 0.7866\n",
      "Epoch 8/10\n",
      "614/614 [==============================] - 1s 2ms/step - loss: 0.4181 - accuracy: 0.7899\n",
      "Epoch 9/10\n",
      "614/614 [==============================] - 1s 2ms/step - loss: 0.4109 - accuracy: 0.7818\n",
      "Epoch 10/10\n",
      "614/614 [==============================] - 1s 2ms/step - loss: 0.4147 - accuracy: 0.7866\n"
     ]
    },
    {
     "data": {
      "text/plain": [
       "<keras.callbacks.History at 0x22ce496edc0>"
      ]
     },
     "execution_count": 25,
     "metadata": {},
     "output_type": "execute_result"
    }
   ],
   "source": [
    "# (2) Entrenamos sobre el conjunto de entrenamiento\n",
    "model1_n16_relu.fit(train_X,train_y,epochs=10,batch_size=1)"
   ]
  },
  {
   "cell_type": "code",
   "execution_count": 26,
   "id": "65e35b73",
   "metadata": {},
   "outputs": [
    {
     "name": "stdout",
     "output_type": "stream",
     "text": [
      "Coste = 0.39,Accuracy = 0.81\n",
      "Coste = 0.55,Accuracy = 0.73\n"
     ]
    }
   ],
   "source": [
    "# (2) Evaluamos el modelo\n",
    "loss, accuracy = model1_n16_relu.evaluate(train_X, train_y, verbose=0)\n",
    "print(\"Coste = {:.2f},Accuracy = {:.2f}\".format(loss,accuracy))\n",
    "loss, accuracy = model1_n16_relu.evaluate(test_X, test_y, verbose=0)\n",
    "print(\"Coste = {:.2f},Accuracy = {:.2f}\".format(loss,accuracy))"
   ]
  },
  {
   "cell_type": "markdown",
   "id": "4c058487",
   "metadata": {},
   "source": [
    "### 4.2 Modelo 2\n",
    "Para este modelo usaremos 10 y 100 epochs, y también variaremos el tamaño de batch siendo mayor cuando más epochs haya."
   ]
  },
  {
   "cell_type": "code",
   "execution_count": 35,
   "id": "d43b8496",
   "metadata": {},
   "outputs": [
    {
     "name": "stdout",
     "output_type": "stream",
     "text": [
      "Epoch 1/100\n",
      "20/20 [==============================] - 0s 2ms/step - loss: 0.5032 - accuracy: 0.7622\n",
      "Epoch 2/100\n",
      "20/20 [==============================] - 0s 2ms/step - loss: 0.4504 - accuracy: 0.7915\n",
      "Epoch 3/100\n",
      "20/20 [==============================] - 0s 2ms/step - loss: 0.4606 - accuracy: 0.7834\n",
      "Epoch 4/100\n",
      "20/20 [==============================] - 0s 2ms/step - loss: 0.4578 - accuracy: 0.7752\n",
      "Epoch 5/100\n",
      "20/20 [==============================] - 0s 2ms/step - loss: 0.4606 - accuracy: 0.7850\n",
      "Epoch 6/100\n",
      "20/20 [==============================] - 0s 2ms/step - loss: 0.4496 - accuracy: 0.7818\n",
      "Epoch 7/100\n",
      "20/20 [==============================] - 0s 2ms/step - loss: 0.4568 - accuracy: 0.7704\n",
      "Epoch 8/100\n",
      "20/20 [==============================] - 0s 2ms/step - loss: 0.4496 - accuracy: 0.7818\n",
      "Epoch 9/100\n",
      "20/20 [==============================] - 0s 2ms/step - loss: 0.4480 - accuracy: 0.7883\n",
      "Epoch 10/100\n",
      "20/20 [==============================] - 0s 2ms/step - loss: 0.4490 - accuracy: 0.7883\n",
      "Epoch 11/100\n",
      "20/20 [==============================] - 0s 2ms/step - loss: 0.4524 - accuracy: 0.7687\n",
      "Epoch 12/100\n",
      "20/20 [==============================] - 0s 2ms/step - loss: 0.4593 - accuracy: 0.7932\n",
      "Epoch 13/100\n",
      "20/20 [==============================] - 0s 3ms/step - loss: 0.4501 - accuracy: 0.7769\n",
      "Epoch 14/100\n",
      "20/20 [==============================] - 0s 2ms/step - loss: 0.4488 - accuracy: 0.7801\n",
      "Epoch 15/100\n",
      "20/20 [==============================] - 0s 2ms/step - loss: 0.4480 - accuracy: 0.7883\n",
      "Epoch 16/100\n",
      "20/20 [==============================] - 0s 2ms/step - loss: 0.4435 - accuracy: 0.7866\n",
      "Epoch 17/100\n",
      "20/20 [==============================] - 0s 2ms/step - loss: 0.4502 - accuracy: 0.7769\n",
      "Epoch 18/100\n",
      "20/20 [==============================] - 0s 3ms/step - loss: 0.4486 - accuracy: 0.7883\n",
      "Epoch 19/100\n",
      "20/20 [==============================] - 0s 2ms/step - loss: 0.4395 - accuracy: 0.8029\n",
      "Epoch 20/100\n",
      "20/20 [==============================] - 0s 2ms/step - loss: 0.4510 - accuracy: 0.7769\n",
      "Epoch 21/100\n",
      "20/20 [==============================] - 0s 3ms/step - loss: 0.4461 - accuracy: 0.7899\n",
      "Epoch 22/100\n",
      "20/20 [==============================] - 0s 2ms/step - loss: 0.4446 - accuracy: 0.7883\n",
      "Epoch 23/100\n",
      "20/20 [==============================] - 0s 2ms/step - loss: 0.4406 - accuracy: 0.7866\n",
      "Epoch 24/100\n",
      "20/20 [==============================] - 0s 2ms/step - loss: 0.4436 - accuracy: 0.7850\n",
      "Epoch 25/100\n",
      "20/20 [==============================] - 0s 2ms/step - loss: 0.4457 - accuracy: 0.7818\n",
      "Epoch 26/100\n",
      "20/20 [==============================] - 0s 2ms/step - loss: 0.4440 - accuracy: 0.7834\n",
      "Epoch 27/100\n",
      "20/20 [==============================] - 0s 2ms/step - loss: 0.4434 - accuracy: 0.7834\n",
      "Epoch 28/100\n",
      "20/20 [==============================] - 0s 2ms/step - loss: 0.4381 - accuracy: 0.7883\n",
      "Epoch 29/100\n",
      "20/20 [==============================] - 0s 3ms/step - loss: 0.4409 - accuracy: 0.7801\n",
      "Epoch 30/100\n",
      "20/20 [==============================] - 0s 2ms/step - loss: 0.4374 - accuracy: 0.7915\n",
      "Epoch 31/100\n",
      "20/20 [==============================] - 0s 3ms/step - loss: 0.4424 - accuracy: 0.7834\n",
      "Epoch 32/100\n",
      "20/20 [==============================] - 0s 3ms/step - loss: 0.4384 - accuracy: 0.7850\n",
      "Epoch 33/100\n",
      "20/20 [==============================] - 0s 3ms/step - loss: 0.4315 - accuracy: 0.7964\n",
      "Epoch 34/100\n",
      "20/20 [==============================] - 0s 2ms/step - loss: 0.4402 - accuracy: 0.7866\n",
      "Epoch 35/100\n",
      "20/20 [==============================] - 0s 2ms/step - loss: 0.4401 - accuracy: 0.7818\n",
      "Epoch 36/100\n",
      "20/20 [==============================] - 0s 2ms/step - loss: 0.4396 - accuracy: 0.7899\n",
      "Epoch 37/100\n",
      "20/20 [==============================] - 0s 2ms/step - loss: 0.4428 - accuracy: 0.7932\n",
      "Epoch 38/100\n",
      "20/20 [==============================] - 0s 2ms/step - loss: 0.4442 - accuracy: 0.7850\n",
      "Epoch 39/100\n",
      "20/20 [==============================] - 0s 2ms/step - loss: 0.4418 - accuracy: 0.7850\n",
      "Epoch 40/100\n",
      "20/20 [==============================] - 0s 2ms/step - loss: 0.4403 - accuracy: 0.7866\n",
      "Epoch 41/100\n",
      "20/20 [==============================] - 0s 2ms/step - loss: 0.4354 - accuracy: 0.7866\n",
      "Epoch 42/100\n",
      "20/20 [==============================] - 0s 2ms/step - loss: 0.4353 - accuracy: 0.7850\n",
      "Epoch 43/100\n",
      "20/20 [==============================] - 0s 2ms/step - loss: 0.4428 - accuracy: 0.7736\n",
      "Epoch 44/100\n",
      "20/20 [==============================] - 0s 2ms/step - loss: 0.4362 - accuracy: 0.7883\n",
      "Epoch 45/100\n",
      "20/20 [==============================] - 0s 2ms/step - loss: 0.4314 - accuracy: 0.7850\n",
      "Epoch 46/100\n",
      "20/20 [==============================] - 0s 3ms/step - loss: 0.4362 - accuracy: 0.7769\n",
      "Epoch 47/100\n",
      "20/20 [==============================] - 0s 2ms/step - loss: 0.4307 - accuracy: 0.7915\n",
      "Epoch 48/100\n",
      "20/20 [==============================] - 0s 2ms/step - loss: 0.4370 - accuracy: 0.7932\n",
      "Epoch 49/100\n",
      "20/20 [==============================] - 0s 2ms/step - loss: 0.4431 - accuracy: 0.7850\n",
      "Epoch 50/100\n",
      "20/20 [==============================] - 0s 2ms/step - loss: 0.4384 - accuracy: 0.7932\n",
      "Epoch 51/100\n",
      "20/20 [==============================] - 0s 2ms/step - loss: 0.4321 - accuracy: 0.7964\n",
      "Epoch 52/100\n",
      "20/20 [==============================] - 0s 2ms/step - loss: 0.4410 - accuracy: 0.8062\n",
      "Epoch 53/100\n",
      "20/20 [==============================] - 0s 2ms/step - loss: 0.4297 - accuracy: 0.7964\n",
      "Epoch 54/100\n",
      "20/20 [==============================] - 0s 2ms/step - loss: 0.4337 - accuracy: 0.7818\n",
      "Epoch 55/100\n",
      "20/20 [==============================] - 0s 2ms/step - loss: 0.4360 - accuracy: 0.7899\n",
      "Epoch 56/100\n",
      "20/20 [==============================] - 0s 3ms/step - loss: 0.4398 - accuracy: 0.7850\n",
      "Epoch 57/100\n",
      "20/20 [==============================] - 0s 3ms/step - loss: 0.4347 - accuracy: 0.7948\n",
      "Epoch 58/100\n",
      "20/20 [==============================] - 0s 2ms/step - loss: 0.4396 - accuracy: 0.7850\n",
      "Epoch 59/100\n",
      "20/20 [==============================] - 0s 2ms/step - loss: 0.4293 - accuracy: 0.7818\n",
      "Epoch 60/100\n",
      "20/20 [==============================] - 0s 2ms/step - loss: 0.4356 - accuracy: 0.7883\n",
      "Epoch 61/100\n",
      "20/20 [==============================] - 0s 2ms/step - loss: 0.4363 - accuracy: 0.7948\n",
      "Epoch 62/100\n",
      "20/20 [==============================] - 0s 2ms/step - loss: 0.4359 - accuracy: 0.7964\n",
      "Epoch 63/100\n",
      "20/20 [==============================] - 0s 2ms/step - loss: 0.4277 - accuracy: 0.7980\n",
      "Epoch 64/100\n",
      "20/20 [==============================] - 0s 2ms/step - loss: 0.4401 - accuracy: 0.7915\n",
      "Epoch 65/100\n",
      "20/20 [==============================] - 0s 2ms/step - loss: 0.4370 - accuracy: 0.7752\n",
      "Epoch 66/100\n",
      "20/20 [==============================] - 0s 2ms/step - loss: 0.4312 - accuracy: 0.8062\n",
      "Epoch 67/100\n",
      "20/20 [==============================] - 0s 2ms/step - loss: 0.4374 - accuracy: 0.7834\n",
      "Epoch 68/100\n",
      "20/20 [==============================] - 0s 2ms/step - loss: 0.4276 - accuracy: 0.7997\n",
      "Epoch 69/100\n",
      "20/20 [==============================] - 0s 2ms/step - loss: 0.4333 - accuracy: 0.8094\n",
      "Epoch 70/100\n",
      "20/20 [==============================] - 0s 2ms/step - loss: 0.4327 - accuracy: 0.7801\n",
      "Epoch 71/100\n",
      "20/20 [==============================] - 0s 2ms/step - loss: 0.4306 - accuracy: 0.7932\n",
      "Epoch 72/100\n",
      "20/20 [==============================] - 0s 2ms/step - loss: 0.4278 - accuracy: 0.7948\n",
      "Epoch 73/100\n",
      "20/20 [==============================] - 0s 2ms/step - loss: 0.4280 - accuracy: 0.7964\n",
      "Epoch 74/100\n",
      "20/20 [==============================] - 0s 2ms/step - loss: 0.4263 - accuracy: 0.7997\n",
      "Epoch 75/100\n",
      "20/20 [==============================] - 0s 2ms/step - loss: 0.4285 - accuracy: 0.7948\n",
      "Epoch 76/100\n",
      "20/20 [==============================] - 0s 2ms/step - loss: 0.4297 - accuracy: 0.8029\n",
      "Epoch 77/100\n",
      "20/20 [==============================] - 0s 2ms/step - loss: 0.4293 - accuracy: 0.7850\n",
      "Epoch 78/100\n",
      "20/20 [==============================] - 0s 2ms/step - loss: 0.4303 - accuracy: 0.7818\n",
      "Epoch 79/100\n",
      "20/20 [==============================] - 0s 2ms/step - loss: 0.4341 - accuracy: 0.7801\n",
      "Epoch 80/100\n",
      "20/20 [==============================] - ETA: 0s - loss: 0.3670 - accuracy: 0.84 - 0s 2ms/step - loss: 0.4353 - accuracy: 0.7964\n",
      "Epoch 81/100\n",
      "20/20 [==============================] - 0s 2ms/step - loss: 0.4296 - accuracy: 0.7883\n",
      "Epoch 82/100\n"
     ]
    },
    {
     "name": "stdout",
     "output_type": "stream",
     "text": [
      "20/20 [==============================] - 0s 3ms/step - loss: 0.4253 - accuracy: 0.7932\n",
      "Epoch 83/100\n",
      "20/20 [==============================] - 0s 2ms/step - loss: 0.4292 - accuracy: 0.7932\n",
      "Epoch 84/100\n",
      "20/20 [==============================] - 0s 2ms/step - loss: 0.4344 - accuracy: 0.7834\n",
      "Epoch 85/100\n",
      "20/20 [==============================] - 0s 2ms/step - loss: 0.4281 - accuracy: 0.7785\n",
      "Epoch 86/100\n",
      "20/20 [==============================] - 0s 3ms/step - loss: 0.4289 - accuracy: 0.7801\n",
      "Epoch 87/100\n",
      "20/20 [==============================] - 0s 2ms/step - loss: 0.4252 - accuracy: 0.7915\n",
      "Epoch 88/100\n",
      "20/20 [==============================] - 0s 2ms/step - loss: 0.4312 - accuracy: 0.7883\n",
      "Epoch 89/100\n",
      "20/20 [==============================] - 0s 2ms/step - loss: 0.4245 - accuracy: 0.7915\n",
      "Epoch 90/100\n",
      "20/20 [==============================] - 0s 2ms/step - loss: 0.4275 - accuracy: 0.8029\n",
      "Epoch 91/100\n",
      "20/20 [==============================] - 0s 2ms/step - loss: 0.4263 - accuracy: 0.7866\n",
      "Epoch 92/100\n",
      "20/20 [==============================] - 0s 2ms/step - loss: 0.4280 - accuracy: 0.7769\n",
      "Epoch 93/100\n",
      "20/20 [==============================] - 0s 2ms/step - loss: 0.4261 - accuracy: 0.7932\n",
      "Epoch 94/100\n",
      "20/20 [==============================] - 0s 2ms/step - loss: 0.4221 - accuracy: 0.8029\n",
      "Epoch 95/100\n",
      "20/20 [==============================] - 0s 2ms/step - loss: 0.4308 - accuracy: 0.7883\n",
      "Epoch 96/100\n",
      "20/20 [==============================] - 0s 2ms/step - loss: 0.4253 - accuracy: 0.7964\n",
      "Epoch 97/100\n",
      "20/20 [==============================] - 0s 2ms/step - loss: 0.4185 - accuracy: 0.8013\n",
      "Epoch 98/100\n",
      "20/20 [==============================] - 0s 2ms/step - loss: 0.4291 - accuracy: 0.7915\n",
      "Epoch 99/100\n",
      "20/20 [==============================] - 0s 2ms/step - loss: 0.4215 - accuracy: 0.8046\n",
      "Epoch 100/100\n",
      "20/20 [==============================] - 0s 2ms/step - loss: 0.4395 - accuracy: 0.7785\n"
     ]
    },
    {
     "data": {
      "text/plain": [
       "<keras.callbacks.History at 0x22ce350f400>"
      ]
     },
     "execution_count": 35,
     "metadata": {},
     "output_type": "execute_result"
    }
   ],
   "source": [
    "# (1) Entrenamos sobre el conjunto de entrenamiento\n",
    "model2_n8_leakyRelu.fit(train_X,train_y,epochs=100,batch_size=32)"
   ]
  },
  {
   "cell_type": "code",
   "execution_count": 36,
   "id": "0082f997",
   "metadata": {},
   "outputs": [
    {
     "name": "stdout",
     "output_type": "stream",
     "text": [
      "Coste = 0.41,Accuracy = 0.80\n",
      "Coste = 0.47,Accuracy = 0.77\n"
     ]
    }
   ],
   "source": [
    "# (1) Evaluamos sobre el conjunto de entrenamiento y test\n",
    "loss, accuracy = model2_n8_leakyRelu.evaluate(train_X, train_y, verbose=0)\n",
    "print(\"Coste = {:.2f},Accuracy = {:.2f}\".format(loss,accuracy))\n",
    "loss, accuracy = model2_n8_leakyRelu.evaluate(test_X, test_y, verbose=0)\n",
    "print(\"Coste = {:.2f},Accuracy = {:.2f}\".format(loss,accuracy))"
   ]
  },
  {
   "cell_type": "code",
   "execution_count": 29,
   "id": "d73b3174",
   "metadata": {
    "scrolled": true
   },
   "outputs": [
    {
     "name": "stdout",
     "output_type": "stream",
     "text": [
      "Epoch 1/10\n",
      "614/614 [==============================] - 2s 3ms/step - loss: 0.5344 - accuracy: 0.7443\n",
      "Epoch 2/10\n",
      "614/614 [==============================] - 2s 3ms/step - loss: 0.5094 - accuracy: 0.7573\n",
      "Epoch 3/10\n",
      "614/614 [==============================] - 2s 3ms/step - loss: 0.5176 - accuracy: 0.7606\n",
      "Epoch 4/10\n",
      "614/614 [==============================] - 2s 3ms/step - loss: 0.5244 - accuracy: 0.7687\n",
      "Epoch 5/10\n",
      "614/614 [==============================] - 2s 3ms/step - loss: 0.5244 - accuracy: 0.7492\n",
      "Epoch 6/10\n",
      "614/614 [==============================] - 2s 3ms/step - loss: 0.5166 - accuracy: 0.7557\n",
      "Epoch 7/10\n",
      "614/614 [==============================] - 2s 3ms/step - loss: 0.5097 - accuracy: 0.7573\n",
      "Epoch 8/10\n",
      "614/614 [==============================] - 2s 3ms/step - loss: 0.5173 - accuracy: 0.7508\n",
      "Epoch 9/10\n",
      "614/614 [==============================] - 2s 3ms/step - loss: 0.5127 - accuracy: 0.7345\n",
      "Epoch 10/10\n",
      "614/614 [==============================] - 2s 3ms/step - loss: 0.5016 - accuracy: 0.7671\n"
     ]
    },
    {
     "data": {
      "text/plain": [
       "<keras.callbacks.History at 0x22ce5e93700>"
      ]
     },
     "execution_count": 29,
     "metadata": {},
     "output_type": "execute_result"
    }
   ],
   "source": [
    "# (2) Entrenamos sobre el conjunto de entrenamiento\n",
    "model2_n8_leakyRelu.fit(train_X,train_y,epochs=10,batch_size=1)"
   ]
  },
  {
   "cell_type": "code",
   "execution_count": 30,
   "id": "b1a93015",
   "metadata": {},
   "outputs": [
    {
     "name": "stdout",
     "output_type": "stream",
     "text": [
      "Coste = 0.63,Accuracy = 0.72\n",
      "Coste = 0.62,Accuracy = 0.75\n"
     ]
    }
   ],
   "source": [
    "# (2) Evaluamos sobre el conjunto de entrenamiento y test\n",
    "loss, accuracy = model2_n8_leakyRelu.evaluate(train_X, train_y, verbose=0)\n",
    "print(\"Coste = {:.2f},Accuracy = {:.2f}\".format(loss,accuracy))\n",
    "loss, accuracy = model2_n8_leakyRelu.evaluate(test_X, test_y, verbose=0)\n",
    "print(\"Coste = {:.2f},Accuracy = {:.2f}\".format(loss,accuracy))"
   ]
  },
  {
   "cell_type": "markdown",
   "id": "f656802d",
   "metadata": {},
   "source": [
    "### 4.3 Modelo 3\n",
    "Para este modelo usaremos 50 y 100 epochs, y también variaremos el tamaño de batch siendo mayor cuando más epochs haya."
   ]
  },
  {
   "cell_type": "code",
   "execution_count": 31,
   "id": "196e6148",
   "metadata": {
    "scrolled": true
   },
   "outputs": [
    {
     "name": "stdout",
     "output_type": "stream",
     "text": [
      "Epoch 1/50\n",
      "20/20 [==============================] - 1s 2ms/step - loss: 0.6763 - accuracy: 0.6564\n",
      "Epoch 2/50\n",
      "20/20 [==============================] - 0s 2ms/step - loss: 0.6612 - accuracy: 0.6515\n",
      "Epoch 3/50\n",
      "20/20 [==============================] - 0s 2ms/step - loss: 0.6544 - accuracy: 0.6515\n",
      "Epoch 4/50\n",
      "20/20 [==============================] - 0s 3ms/step - loss: 0.6457 - accuracy: 0.6515\n",
      "Epoch 5/50\n",
      "20/20 [==============================] - 0s 3ms/step - loss: 0.6369 - accuracy: 0.6515\n",
      "Epoch 6/50\n",
      "20/20 [==============================] - 0s 3ms/step - loss: 0.6272 - accuracy: 0.6515\n",
      "Epoch 7/50\n",
      "20/20 [==============================] - 0s 3ms/step - loss: 0.6173 - accuracy: 0.6515\n",
      "Epoch 8/50\n",
      "20/20 [==============================] - 0s 2ms/step - loss: 0.6079 - accuracy: 0.6515\n",
      "Epoch 9/50\n",
      "20/20 [==============================] - 0s 2ms/step - loss: 0.5979 - accuracy: 0.6515\n",
      "Epoch 10/50\n",
      "20/20 [==============================] - 0s 2ms/step - loss: 0.5900 - accuracy: 0.6515\n",
      "Epoch 11/50\n",
      "20/20 [==============================] - 0s 2ms/step - loss: 0.5798 - accuracy: 0.6515\n",
      "Epoch 12/50\n",
      "20/20 [==============================] - 0s 2ms/step - loss: 0.5717 - accuracy: 0.6515\n",
      "Epoch 13/50\n",
      "20/20 [==============================] - 0s 2ms/step - loss: 0.5666 - accuracy: 0.6515\n",
      "Epoch 14/50\n",
      "20/20 [==============================] - 0s 2ms/step - loss: 0.5589 - accuracy: 0.6515\n",
      "Epoch 15/50\n",
      "20/20 [==============================] - ETA: 0s - loss: 0.4460 - accuracy: 0.75 - 0s 2ms/step - loss: 0.5553 - accuracy: 0.6515\n",
      "Epoch 16/50\n",
      "20/20 [==============================] - 0s 3ms/step - loss: 0.5521 - accuracy: 0.6515\n",
      "Epoch 17/50\n",
      "20/20 [==============================] - 0s 3ms/step - loss: 0.5463 - accuracy: 0.6515\n",
      "Epoch 18/50\n",
      "20/20 [==============================] - 0s 2ms/step - loss: 0.5394 - accuracy: 0.6515\n",
      "Epoch 19/50\n",
      "20/20 [==============================] - 0s 2ms/step - loss: 0.5392 - accuracy: 0.6515\n",
      "Epoch 20/50\n",
      "20/20 [==============================] - 0s 3ms/step - loss: 0.5353 - accuracy: 0.6515\n",
      "Epoch 21/50\n",
      "20/20 [==============================] - 0s 3ms/step - loss: 0.5339 - accuracy: 0.6515\n",
      "Epoch 22/50\n",
      "20/20 [==============================] - 0s 3ms/step - loss: 0.5289 - accuracy: 0.6515\n",
      "Epoch 23/50\n",
      "20/20 [==============================] - 0s 3ms/step - loss: 0.5272 - accuracy: 0.6515\n",
      "Epoch 24/50\n",
      "20/20 [==============================] - 0s 2ms/step - loss: 0.5245 - accuracy: 0.6515\n",
      "Epoch 25/50\n",
      "20/20 [==============================] - 0s 2ms/step - loss: 0.5245 - accuracy: 0.6515\n",
      "Epoch 26/50\n",
      "20/20 [==============================] - 0s 2ms/step - loss: 0.5277 - accuracy: 0.7101\n",
      "Epoch 27/50\n",
      "20/20 [==============================] - 0s 2ms/step - loss: 0.5199 - accuracy: 0.7443\n",
      "Epoch 28/50\n",
      "20/20 [==============================] - 0s 2ms/step - loss: 0.5157 - accuracy: 0.7410\n",
      "Epoch 29/50\n",
      "20/20 [==============================] - 0s 2ms/step - loss: 0.5192 - accuracy: 0.7427\n",
      "Epoch 30/50\n",
      "20/20 [==============================] - 0s 2ms/step - loss: 0.5139 - accuracy: 0.7459\n",
      "Epoch 31/50\n",
      "20/20 [==============================] - 0s 2ms/step - loss: 0.5129 - accuracy: 0.7443\n",
      "Epoch 32/50\n",
      "20/20 [==============================] - 0s 2ms/step - loss: 0.5114 - accuracy: 0.7492\n",
      "Epoch 33/50\n",
      "20/20 [==============================] - 0s 2ms/step - loss: 0.5096 - accuracy: 0.7443\n",
      "Epoch 34/50\n",
      "20/20 [==============================] - 0s 2ms/step - loss: 0.5102 - accuracy: 0.7427\n",
      "Epoch 35/50\n",
      "20/20 [==============================] - 0s 2ms/step - loss: 0.5086 - accuracy: 0.7443\n",
      "Epoch 36/50\n",
      "20/20 [==============================] - 0s 2ms/step - loss: 0.5102 - accuracy: 0.7508\n",
      "Epoch 37/50\n",
      "20/20 [==============================] - 0s 2ms/step - loss: 0.5060 - accuracy: 0.7459\n",
      "Epoch 38/50\n",
      "20/20 [==============================] - 0s 2ms/step - loss: 0.5057 - accuracy: 0.7524\n",
      "Epoch 39/50\n",
      "20/20 [==============================] - 0s 2ms/step - loss: 0.5042 - accuracy: 0.7541\n",
      "Epoch 40/50\n",
      "20/20 [==============================] - 0s 2ms/step - loss: 0.5016 - accuracy: 0.7508\n",
      "Epoch 41/50\n",
      "20/20 [==============================] - 0s 2ms/step - loss: 0.5020 - accuracy: 0.7410\n",
      "Epoch 42/50\n",
      "20/20 [==============================] - 0s 2ms/step - loss: 0.5022 - accuracy: 0.7443\n",
      "Epoch 43/50\n",
      "20/20 [==============================] - 0s 2ms/step - loss: 0.5018 - accuracy: 0.7476\n",
      "Epoch 44/50\n",
      "20/20 [==============================] - 0s 2ms/step - loss: 0.5020 - accuracy: 0.7573\n",
      "Epoch 45/50\n",
      "20/20 [==============================] - 0s 2ms/step - loss: 0.5025 - accuracy: 0.7492\n",
      "Epoch 46/50\n",
      "20/20 [==============================] - 0s 2ms/step - loss: 0.5002 - accuracy: 0.7508\n",
      "Epoch 47/50\n",
      "20/20 [==============================] - 0s 3ms/step - loss: 0.4978 - accuracy: 0.7622\n",
      "Epoch 48/50\n",
      "20/20 [==============================] - 0s 3ms/step - loss: 0.5015 - accuracy: 0.7427\n",
      "Epoch 49/50\n",
      "20/20 [==============================] - 0s 3ms/step - loss: 0.4964 - accuracy: 0.7573\n",
      "Epoch 50/50\n",
      "20/20 [==============================] - 0s 3ms/step - loss: 0.4980 - accuracy: 0.7492\n"
     ]
    },
    {
     "data": {
      "text/plain": [
       "<keras.callbacks.History at 0x22ce6135880>"
      ]
     },
     "execution_count": 31,
     "metadata": {},
     "output_type": "execute_result"
    }
   ],
   "source": [
    "# (1) Entrenamos sobre el conjunto de entrenamiento\n",
    "model3_embudo.fit(train_X,train_y,epochs=50,batch_size=32)"
   ]
  },
  {
   "cell_type": "code",
   "execution_count": 32,
   "id": "3aeee82b",
   "metadata": {},
   "outputs": [
    {
     "name": "stdout",
     "output_type": "stream",
     "text": [
      "Coste = 0.50,Accuracy = 0.75\n",
      "Coste = 0.51,Accuracy = 0.75\n"
     ]
    }
   ],
   "source": [
    "# (1) Evaluamos sobre el conjunto de entrenamiento y test\n",
    "loss, accuracy = model3_embudo.evaluate(train_X, train_y, verbose=0)\n",
    "print(\"Coste = {:.2f},Accuracy = {:.2f}\".format(loss,accuracy))\n",
    "loss, accuracy = model3_embudo.evaluate(test_X, test_y, verbose=0)\n",
    "print(\"Coste = {:.2f},Accuracy = {:.2f}\".format(loss,accuracy))"
   ]
  },
  {
   "cell_type": "code",
   "execution_count": 33,
   "id": "3ff50338",
   "metadata": {},
   "outputs": [
    {
     "name": "stdout",
     "output_type": "stream",
     "text": [
      "Epoch 1/100\n",
      "13/13 [==============================] - 0s 3ms/step - loss: 0.4955 - accuracy: 0.7492\n",
      "Epoch 2/100\n",
      "13/13 [==============================] - 0s 3ms/step - loss: 0.4964 - accuracy: 0.7427\n",
      "Epoch 3/100\n",
      "13/13 [==============================] - 0s 3ms/step - loss: 0.4971 - accuracy: 0.7557\n",
      "Epoch 4/100\n",
      "13/13 [==============================] - 0s 3ms/step - loss: 0.4962 - accuracy: 0.7443\n",
      "Epoch 5/100\n",
      "13/13 [==============================] - 0s 3ms/step - loss: 0.4946 - accuracy: 0.7508\n",
      "Epoch 6/100\n",
      "13/13 [==============================] - 0s 3ms/step - loss: 0.4939 - accuracy: 0.7557\n",
      "Epoch 7/100\n",
      "13/13 [==============================] - 0s 3ms/step - loss: 0.4944 - accuracy: 0.7573\n",
      "Epoch 8/100\n",
      "13/13 [==============================] - 0s 3ms/step - loss: 0.4938 - accuracy: 0.7476\n",
      "Epoch 9/100\n",
      "13/13 [==============================] - 0s 3ms/step - loss: 0.4937 - accuracy: 0.7492\n",
      "Epoch 10/100\n",
      "13/13 [==============================] - 0s 2ms/step - loss: 0.4931 - accuracy: 0.7508\n",
      "Epoch 11/100\n",
      "13/13 [==============================] - 0s 3ms/step - loss: 0.4924 - accuracy: 0.7541\n",
      "Epoch 12/100\n",
      "13/13 [==============================] - 0s 2ms/step - loss: 0.4928 - accuracy: 0.7524\n",
      "Epoch 13/100\n",
      "13/13 [==============================] - 0s 2ms/step - loss: 0.4919 - accuracy: 0.7476\n",
      "Epoch 14/100\n",
      "13/13 [==============================] - 0s 3ms/step - loss: 0.4919 - accuracy: 0.7524\n",
      "Epoch 15/100\n",
      "13/13 [==============================] - 0s 3ms/step - loss: 0.4921 - accuracy: 0.7524\n",
      "Epoch 16/100\n",
      "13/13 [==============================] - 0s 3ms/step - loss: 0.4930 - accuracy: 0.7590\n",
      "Epoch 17/100\n",
      "13/13 [==============================] - 0s 3ms/step - loss: 0.4940 - accuracy: 0.7492\n",
      "Epoch 18/100\n",
      "13/13 [==============================] - 0s 2ms/step - loss: 0.4902 - accuracy: 0.7590\n",
      "Epoch 19/100\n",
      "13/13 [==============================] - 0s 3ms/step - loss: 0.4926 - accuracy: 0.7476\n",
      "Epoch 20/100\n",
      "13/13 [==============================] - 0s 3ms/step - loss: 0.4901 - accuracy: 0.7557\n",
      "Epoch 21/100\n",
      "13/13 [==============================] - 0s 3ms/step - loss: 0.4915 - accuracy: 0.7524\n",
      "Epoch 22/100\n",
      "13/13 [==============================] - ETA: 0s - loss: 0.4769 - accuracy: 0.76 - 0s 3ms/step - loss: 0.4910 - accuracy: 0.7557\n",
      "Epoch 23/100\n",
      "13/13 [==============================] - 0s 2ms/step - loss: 0.4894 - accuracy: 0.7508\n",
      "Epoch 24/100\n",
      "13/13 [==============================] - 0s 3ms/step - loss: 0.4892 - accuracy: 0.7557\n",
      "Epoch 25/100\n",
      "13/13 [==============================] - 0s 3ms/step - loss: 0.4909 - accuracy: 0.7524\n",
      "Epoch 26/100\n",
      "13/13 [==============================] - 0s 3ms/step - loss: 0.4886 - accuracy: 0.7590\n",
      "Epoch 27/100\n",
      "13/13 [==============================] - 0s 3ms/step - loss: 0.4930 - accuracy: 0.7459\n",
      "Epoch 28/100\n",
      "13/13 [==============================] - 0s 2ms/step - loss: 0.4889 - accuracy: 0.7508\n",
      "Epoch 29/100\n",
      "13/13 [==============================] - 0s 3ms/step - loss: 0.4898 - accuracy: 0.7524\n",
      "Epoch 30/100\n",
      "13/13 [==============================] - 0s 3ms/step - loss: 0.4912 - accuracy: 0.7443\n",
      "Epoch 31/100\n",
      "13/13 [==============================] - 0s 3ms/step - loss: 0.4887 - accuracy: 0.7557\n",
      "Epoch 32/100\n",
      "13/13 [==============================] - 0s 3ms/step - loss: 0.4881 - accuracy: 0.7508\n",
      "Epoch 33/100\n",
      "13/13 [==============================] - 0s 3ms/step - loss: 0.4896 - accuracy: 0.7508\n",
      "Epoch 34/100\n",
      "13/13 [==============================] - 0s 3ms/step - loss: 0.4875 - accuracy: 0.7508\n",
      "Epoch 35/100\n",
      "13/13 [==============================] - 0s 3ms/step - loss: 0.4868 - accuracy: 0.7524\n",
      "Epoch 36/100\n",
      "13/13 [==============================] - ETA: 0s - loss: 0.4572 - accuracy: 0.82 - 0s 2ms/step - loss: 0.4873 - accuracy: 0.7492\n",
      "Epoch 37/100\n",
      "13/13 [==============================] - 0s 3ms/step - loss: 0.4882 - accuracy: 0.7443\n",
      "Epoch 38/100\n",
      "13/13 [==============================] - 0s 3ms/step - loss: 0.4903 - accuracy: 0.7492\n",
      "Epoch 39/100\n",
      "13/13 [==============================] - 0s 3ms/step - loss: 0.4865 - accuracy: 0.7590\n",
      "Epoch 40/100\n",
      "13/13 [==============================] - 0s 3ms/step - loss: 0.4871 - accuracy: 0.7459\n",
      "Epoch 41/100\n",
      "13/13 [==============================] - 0s 3ms/step - loss: 0.4857 - accuracy: 0.7492\n",
      "Epoch 42/100\n",
      "13/13 [==============================] - 0s 2ms/step - loss: 0.4862 - accuracy: 0.7557\n",
      "Epoch 43/100\n",
      "13/13 [==============================] - 0s 3ms/step - loss: 0.4876 - accuracy: 0.7492\n",
      "Epoch 44/100\n",
      "13/13 [==============================] - 0s 3ms/step - loss: 0.4856 - accuracy: 0.7557\n",
      "Epoch 45/100\n",
      "13/13 [==============================] - 0s 3ms/step - loss: 0.4865 - accuracy: 0.7541\n",
      "Epoch 46/100\n",
      "13/13 [==============================] - 0s 3ms/step - loss: 0.4856 - accuracy: 0.7508\n",
      "Epoch 47/100\n",
      "13/13 [==============================] - 0s 3ms/step - loss: 0.4867 - accuracy: 0.7443\n",
      "Epoch 48/100\n",
      "13/13 [==============================] - 0s 3ms/step - loss: 0.4879 - accuracy: 0.7524\n",
      "Epoch 49/100\n",
      "13/13 [==============================] - 0s 3ms/step - loss: 0.4870 - accuracy: 0.7492\n",
      "Epoch 50/100\n",
      "13/13 [==============================] - 0s 3ms/step - loss: 0.4853 - accuracy: 0.7476\n",
      "Epoch 51/100\n",
      "13/13 [==============================] - 0s 3ms/step - loss: 0.4855 - accuracy: 0.7557\n",
      "Epoch 52/100\n",
      "13/13 [==============================] - 0s 3ms/step - loss: 0.4846 - accuracy: 0.7557\n",
      "Epoch 53/100\n",
      "13/13 [==============================] - 0s 2ms/step - loss: 0.4882 - accuracy: 0.7443\n",
      "Epoch 54/100\n",
      "13/13 [==============================] - 0s 2ms/step - loss: 0.4861 - accuracy: 0.7492\n",
      "Epoch 55/100\n",
      "13/13 [==============================] - 0s 2ms/step - loss: 0.4859 - accuracy: 0.7557\n",
      "Epoch 56/100\n",
      "13/13 [==============================] - 0s 2ms/step - loss: 0.4894 - accuracy: 0.7476\n",
      "Epoch 57/100\n",
      "13/13 [==============================] - 0s 3ms/step - loss: 0.4849 - accuracy: 0.7508\n",
      "Epoch 58/100\n",
      "13/13 [==============================] - 0s 3ms/step - loss: 0.4871 - accuracy: 0.7443\n",
      "Epoch 59/100\n",
      "13/13 [==============================] - 0s 3ms/step - loss: 0.4855 - accuracy: 0.7541\n",
      "Epoch 60/100\n",
      "13/13 [==============================] - 0s 2ms/step - loss: 0.4847 - accuracy: 0.7492\n",
      "Epoch 61/100\n",
      "13/13 [==============================] - 0s 3ms/step - loss: 0.4856 - accuracy: 0.7524\n",
      "Epoch 62/100\n",
      "13/13 [==============================] - 0s 2ms/step - loss: 0.4854 - accuracy: 0.7459\n",
      "Epoch 63/100\n",
      "13/13 [==============================] - 0s 3ms/step - loss: 0.4848 - accuracy: 0.7476\n",
      "Epoch 64/100\n",
      "13/13 [==============================] - 0s 3ms/step - loss: 0.4841 - accuracy: 0.7524\n",
      "Epoch 65/100\n",
      "13/13 [==============================] - 0s 3ms/step - loss: 0.4851 - accuracy: 0.7524\n",
      "Epoch 66/100\n",
      "13/13 [==============================] - 0s 3ms/step - loss: 0.4871 - accuracy: 0.7508\n",
      "Epoch 67/100\n",
      "13/13 [==============================] - 0s 3ms/step - loss: 0.4870 - accuracy: 0.7508\n",
      "Epoch 68/100\n",
      "13/13 [==============================] - 0s 3ms/step - loss: 0.4853 - accuracy: 0.7394\n",
      "Epoch 69/100\n",
      "13/13 [==============================] - 0s 2ms/step - loss: 0.4852 - accuracy: 0.7476\n",
      "Epoch 70/100\n",
      "13/13 [==============================] - 0s 3ms/step - loss: 0.4816 - accuracy: 0.7508\n",
      "Epoch 71/100\n",
      "13/13 [==============================] - 0s 3ms/step - loss: 0.4836 - accuracy: 0.7508\n",
      "Epoch 72/100\n",
      "13/13 [==============================] - 0s 3ms/step - loss: 0.4849 - accuracy: 0.7410\n",
      "Epoch 73/100\n",
      "13/13 [==============================] - 0s 3ms/step - loss: 0.4855 - accuracy: 0.7492\n",
      "Epoch 74/100\n",
      "13/13 [==============================] - 0s 2ms/step - loss: 0.4840 - accuracy: 0.7476\n",
      "Epoch 75/100\n",
      "13/13 [==============================] - 0s 2ms/step - loss: 0.4844 - accuracy: 0.7557\n",
      "Epoch 76/100\n",
      "13/13 [==============================] - 0s 3ms/step - loss: 0.4834 - accuracy: 0.7557\n",
      "Epoch 77/100\n",
      "13/13 [==============================] - 0s 2ms/step - loss: 0.4822 - accuracy: 0.7459\n",
      "Epoch 78/100\n",
      "13/13 [==============================] - 0s 3ms/step - loss: 0.4859 - accuracy: 0.7427\n",
      "Epoch 79/100\n",
      "13/13 [==============================] - 0s 2ms/step - loss: 0.4861 - accuracy: 0.7524\n",
      "Epoch 80/100\n",
      "13/13 [==============================] - 0s 3ms/step - loss: 0.4850 - accuracy: 0.7557\n",
      "Epoch 81/100\n",
      "13/13 [==============================] - 0s 3ms/step - loss: 0.4838 - accuracy: 0.7459\n",
      "Epoch 82/100\n"
     ]
    },
    {
     "name": "stdout",
     "output_type": "stream",
     "text": [
      "13/13 [==============================] - 0s 5ms/step - loss: 0.4819 - accuracy: 0.7590\n",
      "Epoch 83/100\n",
      "13/13 [==============================] - 0s 2ms/step - loss: 0.4850 - accuracy: 0.7459\n",
      "Epoch 84/100\n",
      "13/13 [==============================] - 0s 2ms/step - loss: 0.4832 - accuracy: 0.7476\n",
      "Epoch 85/100\n",
      "13/13 [==============================] - 0s 3ms/step - loss: 0.4863 - accuracy: 0.7541\n",
      "Epoch 86/100\n",
      "13/13 [==============================] - ETA: 0s - loss: 0.5539 - accuracy: 0.72 - 0s 2ms/step - loss: 0.4862 - accuracy: 0.7427\n",
      "Epoch 87/100\n",
      "13/13 [==============================] - 0s 3ms/step - loss: 0.4856 - accuracy: 0.7541\n",
      "Epoch 88/100\n",
      "13/13 [==============================] - 0s 3ms/step - loss: 0.4830 - accuracy: 0.7476\n",
      "Epoch 89/100\n",
      "13/13 [==============================] - 0s 2ms/step - loss: 0.4836 - accuracy: 0.7443\n",
      "Epoch 90/100\n",
      "13/13 [==============================] - 0s 2ms/step - loss: 0.4830 - accuracy: 0.7557\n",
      "Epoch 91/100\n",
      "13/13 [==============================] - 0s 2ms/step - loss: 0.4857 - accuracy: 0.7459\n",
      "Epoch 92/100\n",
      "13/13 [==============================] - 0s 2ms/step - loss: 0.4832 - accuracy: 0.7459\n",
      "Epoch 93/100\n",
      "13/13 [==============================] - 0s 3ms/step - loss: 0.4843 - accuracy: 0.7508\n",
      "Epoch 94/100\n",
      "13/13 [==============================] - 0s 3ms/step - loss: 0.4839 - accuracy: 0.7524\n",
      "Epoch 95/100\n",
      "13/13 [==============================] - 0s 2ms/step - loss: 0.4848 - accuracy: 0.7459\n",
      "Epoch 96/100\n",
      "13/13 [==============================] - 0s 2ms/step - loss: 0.4845 - accuracy: 0.7459\n",
      "Epoch 97/100\n",
      "13/13 [==============================] - 0s 3ms/step - loss: 0.4831 - accuracy: 0.7524\n",
      "Epoch 98/100\n",
      "13/13 [==============================] - 0s 2ms/step - loss: 0.4862 - accuracy: 0.7476\n",
      "Epoch 99/100\n",
      "13/13 [==============================] - 0s 2ms/step - loss: 0.4822 - accuracy: 0.7443\n",
      "Epoch 100/100\n",
      "13/13 [==============================] - 0s 2ms/step - loss: 0.4858 - accuracy: 0.7394\n"
     ]
    },
    {
     "data": {
      "text/plain": [
       "<keras.callbacks.History at 0x22ce74c5d00>"
      ]
     },
     "execution_count": 33,
     "metadata": {},
     "output_type": "execute_result"
    }
   ],
   "source": [
    "# (2) Entrenamos sobre el conjunto de entrenamiento\n",
    "model3_embudo.fit(train_X,train_y,epochs=100,batch_size=50)"
   ]
  },
  {
   "cell_type": "code",
   "execution_count": 34,
   "id": "1f1d6c81",
   "metadata": {},
   "outputs": [
    {
     "name": "stdout",
     "output_type": "stream",
     "text": [
      "Coste = 0.48,Accuracy = 0.75\n",
      "Coste = 0.50,Accuracy = 0.79\n"
     ]
    }
   ],
   "source": [
    "# (2) Evaluamos sobre el conjunto de entrenamiento y test\n",
    "loss, accuracy = model3_embudo.evaluate(train_X, train_y, verbose=0)\n",
    "print(\"Coste = {:.2f},Accuracy = {:.2f}\".format(loss,accuracy))\n",
    "loss, accuracy = model3_embudo.evaluate(test_X, test_y, verbose=0)\n",
    "print(\"Coste = {:.2f},Accuracy = {:.2f}\".format(loss,accuracy))"
   ]
  },
  {
   "cell_type": "markdown",
   "id": "49c94b5d",
   "metadata": {},
   "source": [
    "## 5. Análisis de los resultados\n",
    "\n",
    "### 5.1 ¿Qué podemos decir del proceso de entrenamiento?\n",
    "\n",
    "Durante el entrenamiento, se nos van presentando los valores de la función de pérdida y precisión en cada epoch. Esta información ha sido útil para ir viendo como durante la búsqueda de mínimo local o global, ha ido variando los modelos.\n",
    "\n",
    "Prácticamente todos los modelos **han actuado de la misma manera**, encontrando desde el inicio un mínimo local que aportaba una precisión de, al menos, más del 75%, y a medida que iban pasando epochs, iba aumentando o disminuyendo **sin bajar del 70%**. Esto es particularmente importante porque ha sido posible obtener buenos resultados con pocos epochs, lo que mejora la **computación** del modelo.\n",
    "\n",
    "### 5.2 ¿Qué podemos decir del proceso de evaluación?\n",
    "\n",
    "En cuanto a la evaluación sobre el conjunto de entrenamiento y test, los resultados **han sido semejantes** en todos los modelos con apróximadamente un valor de **80%** en ambos casos. Un valor del 80% sobre el conjunto de entrenamiento no es un resultado que podamos considerar del todo bueno, dando a entender que es probable que el modelo se encuentre **infrajustado**. No obstante, ha podido ver como hemos probado distintos modelos, uno más complejo que el anterior y los resultados han sido los mismos. Por tanto, podríamos pensar en que o necesitamos más características o la naturaleza del problema es confusa y no hemos logrado la configuración adecuada.\n",
    "\n",
    "### 5.3 ¿Qué modelo es mejor?\n",
    "\n",
    "El mejor modelo es aquel que posee un mejor balance entre velocidad de procesado y calidad de los resultados. Dado que con nuestra configuración los resultados han sido similares, pasamos a hablar de velocidad, donde podríamos decir que el **primer modelo**, al ser **más simple** y, por tanto, computacionalmente **más rápido**, se podría considerar como mejor para el problema al que nos estamos enfrentando."
   ]
  },
  {
   "cell_type": "markdown",
   "id": "0777b690",
   "metadata": {},
   "source": [
    "## 6. Bibliografía\n",
    "\n",
    "- Módulos 1, 2 y 3 de la asignatura Deep Learning coordinada por Miguel Ángel Martínez del Amor para el Máster Oficial de Ingeniería Informática en la Universidad de Sevilla.\n",
    "- Módulos 6, 7 y 8 de la asigantura Aprendizaje Automático acerca de redes neuronales, preprocesamiento y evaluación de los datos, por Francisco J. Martín Mateos y José Luis Ruiz Reina para el Máster Oficial de Ingeniería Informática en la Universidad de Sevilla.\n",
    "- Documentación keras: https://keras.io/api/\n",
    "- Documentación numpy: https://numpy.org/doc/stable/reference/\n",
    "- Documentación tensorflow: https://www.tensorflow.org/api_docs\n"
   ]
  }
 ],
 "metadata": {
  "kernelspec": {
   "display_name": "Python 3 (ipykernel)",
   "language": "python",
   "name": "python3"
  },
  "language_info": {
   "codemirror_mode": {
    "name": "ipython",
    "version": 3
   },
   "file_extension": ".py",
   "mimetype": "text/x-python",
   "name": "python",
   "nbconvert_exporter": "python",
   "pygments_lexer": "ipython3",
   "version": "3.9.7"
  }
 },
 "nbformat": 4,
 "nbformat_minor": 5
}
